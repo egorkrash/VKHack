{
 "cells": [
  {
   "cell_type": "markdown",
   "metadata": {},
   "source": [
    "# Reading data"
   ]
  },
  {
   "cell_type": "code",
   "execution_count": 1,
   "metadata": {},
   "outputs": [],
   "source": [
    "import pandas as pd"
   ]
  },
  {
   "cell_type": "code",
   "execution_count": 2,
   "metadata": {},
   "outputs": [],
   "source": [
    "data = pd.read_csv('activation.txt', sep=':')"
   ]
  },
  {
   "cell_type": "code",
   "execution_count": 3,
   "metadata": {
    "scrolled": true
   },
   "outputs": [
    {
     "data": {
      "text/plain": [
       "(9108, 3)"
      ]
     },
     "execution_count": 3,
     "metadata": {},
     "output_type": "execute_result"
    }
   ],
   "source": [
    "data.shape"
   ]
  },
  {
   "cell_type": "code",
   "execution_count": 4,
   "metadata": {},
   "outputs": [],
   "source": [
    "data = data.dropna().reset_index(drop=True)"
   ]
  },
  {
   "cell_type": "code",
   "execution_count": 5,
   "metadata": {},
   "outputs": [
    {
     "data": {
      "text/plain": [
       "(9108, 3)"
      ]
     },
     "execution_count": 5,
     "metadata": {},
     "output_type": "execute_result"
    }
   ],
   "source": [
    "data.shape"
   ]
  },
  {
   "cell_type": "code",
   "execution_count": 6,
   "metadata": {},
   "outputs": [
    {
     "data": {
      "text/html": [
       "<div>\n",
       "<style scoped>\n",
       "    .dataframe tbody tr th:only-of-type {\n",
       "        vertical-align: middle;\n",
       "    }\n",
       "\n",
       "    .dataframe tbody tr th {\n",
       "        vertical-align: top;\n",
       "    }\n",
       "\n",
       "    .dataframe thead th {\n",
       "        text-align: right;\n",
       "    }\n",
       "</style>\n",
       "<table border=\"1\" class=\"dataframe\">\n",
       "  <thead>\n",
       "    <tr style=\"text-align: right;\">\n",
       "      <th></th>\n",
       "      <th>filename</th>\n",
       "      <th>num</th>\n",
       "      <th>text</th>\n",
       "    </tr>\n",
       "  </thead>\n",
       "  <tbody>\n",
       "    <tr>\n",
       "      <th>0</th>\n",
       "      <td>10014.txt</td>\n",
       "      <td>1</td>\n",
       "      <td>да виктория мне надо зарегистрировать новую ка...</td>\n",
       "    </tr>\n",
       "    <tr>\n",
       "      <th>1</th>\n",
       "      <td>10020.txt</td>\n",
       "      <td>1</td>\n",
       "      <td>я за активировала карту а нет и не известные н...</td>\n",
       "    </tr>\n",
       "  </tbody>\n",
       "</table>\n",
       "</div>"
      ],
      "text/plain": [
       "    filename  num                                               text\n",
       "0  10014.txt    1  да виктория мне надо зарегистрировать новую ка...\n",
       "1  10020.txt    1  я за активировала карту а нет и не известные н..."
      ]
     },
     "execution_count": 6,
     "metadata": {},
     "output_type": "execute_result"
    }
   ],
   "source": [
    "data.head(2)"
   ]
  },
  {
   "cell_type": "markdown",
   "metadata": {},
   "source": [
    "# Reading MasterCard data"
   ]
  },
  {
   "cell_type": "code",
   "execution_count": 2,
   "metadata": {},
   "outputs": [],
   "source": [
    "import pandas as pd"
   ]
  },
  {
   "cell_type": "code",
   "execution_count": 3,
   "metadata": {},
   "outputs": [
    {
     "data": {
      "text/html": [
       "<div>\n",
       "<style scoped>\n",
       "    .dataframe tbody tr th:only-of-type {\n",
       "        vertical-align: middle;\n",
       "    }\n",
       "\n",
       "    .dataframe tbody tr th {\n",
       "        vertical-align: top;\n",
       "    }\n",
       "\n",
       "    .dataframe thead th {\n",
       "        text-align: right;\n",
       "    }\n",
       "</style>\n",
       "<table border=\"1\" class=\"dataframe\">\n",
       "  <thead>\n",
       "    <tr style=\"text-align: right;\">\n",
       "      <th></th>\n",
       "      <th>sp_id</th>\n",
       "      <th>local_datetime</th>\n",
       "      <th>text</th>\n",
       "      <th>lemma</th>\n",
       "    </tr>\n",
       "  </thead>\n",
       "  <tbody>\n",
       "    <tr>\n",
       "      <th>5</th>\n",
       "      <td>2</td>\n",
       "      <td>2018-04-06T00:12:29+0300</td>\n",
       "      <td>giving you money back. thanks</td>\n",
       "      <td>[giving, you, money, back, thanks]</td>\n",
       "    </tr>\n",
       "    <tr>\n",
       "      <th>6</th>\n",
       "      <td>2</td>\n",
       "      <td>2018-04-06T00:14:18+0300</td>\n",
       "      <td>giving you money back. thanks</td>\n",
       "      <td>[giving, you, money, back, thanks]</td>\n",
       "    </tr>\n",
       "    <tr>\n",
       "      <th>7</th>\n",
       "      <td>2</td>\n",
       "      <td>2018-04-06T00:22:56+0300</td>\n",
       "      <td>for Ivan's birthday</td>\n",
       "      <td>[for, ivan, birthday]</td>\n",
       "    </tr>\n",
       "    <tr>\n",
       "      <th>8</th>\n",
       "      <td>2</td>\n",
       "      <td>2018-04-06T00:24:03+0300</td>\n",
       "      <td>for Ivan's birthday</td>\n",
       "      <td>[for, ivan, birthday]</td>\n",
       "    </tr>\n",
       "    <tr>\n",
       "      <th>9</th>\n",
       "      <td>2</td>\n",
       "      <td>2018-04-06T14:09:20+0300</td>\n",
       "      <td>for Ivan's birthday</td>\n",
       "      <td>[for, ivan, birthday]</td>\n",
       "    </tr>\n",
       "  </tbody>\n",
       "</table>\n",
       "</div>"
      ],
      "text/plain": [
       "   sp_id            local_datetime                           text  \\\n",
       "5      2  2018-04-06T00:12:29+0300  giving you money back. thanks   \n",
       "6      2  2018-04-06T00:14:18+0300  giving you money back. thanks   \n",
       "7      2  2018-04-06T00:22:56+0300            for Ivan's birthday   \n",
       "8      2  2018-04-06T00:24:03+0300            for Ivan's birthday   \n",
       "9      2  2018-04-06T14:09:20+0300            for Ivan's birthday   \n",
       "\n",
       "                                lemma  \n",
       "5  [giving, you, money, back, thanks]  \n",
       "6  [giving, you, money, back, thanks]  \n",
       "7               [for, ivan, birthday]  \n",
       "8               [for, ivan, birthday]  \n",
       "9               [for, ivan, birthday]  "
      ]
     },
     "execution_count": 3,
     "metadata": {},
     "output_type": "execute_result"
    }
   ],
   "source": [
    "data = pd.read_pickle(\"new_data.pkl\")\n",
    "data = data.rename(columns={\"message\": \"text\"})\n",
    "data.head()"
   ]
  },
  {
   "cell_type": "code",
   "execution_count": 4,
   "metadata": {},
   "outputs": [
    {
     "name": "stdout",
     "output_type": "stream",
     "text": [
      "<class 'pandas.core.frame.DataFrame'>\n",
      "Int64Index: 33183 entries, 5 to 684612\n",
      "Data columns (total 4 columns):\n",
      "sp_id             33183 non-null int64\n",
      "local_datetime    33183 non-null object\n",
      "text              33183 non-null object\n",
      "lemma             33183 non-null object\n",
      "dtypes: int64(1), object(3)\n",
      "memory usage: 1.3+ MB\n"
     ]
    }
   ],
   "source": [
    "data.info()"
   ]
  },
  {
   "cell_type": "code",
   "execution_count": 7,
   "metadata": {},
   "outputs": [
    {
     "data": {
      "text/plain": [
       "(33183, 4)"
      ]
     },
     "execution_count": 7,
     "metadata": {},
     "output_type": "execute_result"
    }
   ],
   "source": [
    "data.query(\"text == text\").shape"
   ]
  },
  {
   "cell_type": "markdown",
   "metadata": {},
   "source": [
    "# Cleaning"
   ]
  },
  {
   "cell_type": "markdown",
   "metadata": {},
   "source": [
    "#### Keeping English articles"
   ]
  },
  {
   "cell_type": "code",
   "execution_count": 5,
   "metadata": {},
   "outputs": [
    {
     "data": {
      "application/vnd.jupyter.widget-view+json": {
       "model_id": "7e89516d958f4bc8a5ab3aaac8314479",
       "version_major": 2,
       "version_minor": 0
      },
      "text/plain": [
       "HBox(children=(IntProgress(value=1, bar_style='info', max=1), HTML(value='')))"
      ]
     },
     "metadata": {},
     "output_type": "display_data"
    },
    {
     "name": "stdout",
     "output_type": "stream",
     "text": [
      "\n"
     ]
    },
    {
     "name": "stderr",
     "output_type": "stream",
     "text": [
      "/anaconda3/lib/python3.7/site-packages/tqdm/_tqdm.py:603: FutureWarning: The Panel class is removed from pandas. Accessing it from the top-level namespace will also be removed in the next version\n",
      "  from pandas import Panel\n"
     ]
    }
   ],
   "source": [
    "from langdetect import detect\n",
    "from tqdm import tqdm_notebook\n",
    "tqdm_notebook().pandas()"
   ]
  },
  {
   "cell_type": "code",
   "execution_count": 6,
   "metadata": {},
   "outputs": [
    {
     "data": {
      "application/vnd.jupyter.widget-view+json": {
       "model_id": "4f8dd440a06d4bafb475302438921f4f",
       "version_major": 2,
       "version_minor": 0
      },
      "text/plain": [
       "HBox(children=(IntProgress(value=0, max=33183), HTML(value='')))"
      ]
     },
     "metadata": {},
     "output_type": "display_data"
    },
    {
     "ename": "LangDetectException",
     "evalue": "No features in text.",
     "output_type": "error",
     "traceback": [
      "\u001b[0;31m---------------------------------------------------------------------------\u001b[0m",
      "\u001b[0;31mLangDetectException\u001b[0m                       Traceback (most recent call last)",
      "\u001b[0;32m<ipython-input-6-c7adc1ae01fe>\u001b[0m in \u001b[0;36m<module>\u001b[0;34m\u001b[0m\n\u001b[0;32m----> 1\u001b[0;31m \u001b[0mdata\u001b[0m\u001b[0;34m[\u001b[0m\u001b[0;34m'lang'\u001b[0m\u001b[0;34m]\u001b[0m \u001b[0;34m=\u001b[0m \u001b[0mdata\u001b[0m\u001b[0;34m.\u001b[0m\u001b[0mtext\u001b[0m\u001b[0;34m.\u001b[0m\u001b[0mprogress_map\u001b[0m\u001b[0;34m(\u001b[0m\u001b[0mdetect\u001b[0m\u001b[0;34m)\u001b[0m\u001b[0;34m\u001b[0m\u001b[0;34m\u001b[0m\u001b[0m\n\u001b[0m",
      "\u001b[0;32m/anaconda3/lib/python3.7/site-packages/tqdm/_tqdm.py\u001b[0m in \u001b[0;36minner\u001b[0;34m(df, func, *args, **kwargs)\u001b[0m\n\u001b[1;32m    689\u001b[0m                 \u001b[0;31m# Apply the provided function (in **kwargs)\u001b[0m\u001b[0;34m\u001b[0m\u001b[0;34m\u001b[0m\u001b[0;34m\u001b[0m\u001b[0m\n\u001b[1;32m    690\u001b[0m                 \u001b[0;31m# on the df using our wrapper (which provides bar updating)\u001b[0m\u001b[0;34m\u001b[0m\u001b[0;34m\u001b[0m\u001b[0;34m\u001b[0m\u001b[0m\n\u001b[0;32m--> 691\u001b[0;31m                 \u001b[0mresult\u001b[0m \u001b[0;34m=\u001b[0m \u001b[0mgetattr\u001b[0m\u001b[0;34m(\u001b[0m\u001b[0mdf\u001b[0m\u001b[0;34m,\u001b[0m \u001b[0mdf_function\u001b[0m\u001b[0;34m)\u001b[0m\u001b[0;34m(\u001b[0m\u001b[0mwrapper\u001b[0m\u001b[0;34m,\u001b[0m \u001b[0;34m**\u001b[0m\u001b[0mkwargs\u001b[0m\u001b[0;34m)\u001b[0m\u001b[0;34m\u001b[0m\u001b[0;34m\u001b[0m\u001b[0m\n\u001b[0m\u001b[1;32m    692\u001b[0m \u001b[0;34m\u001b[0m\u001b[0m\n\u001b[1;32m    693\u001b[0m                 \u001b[0;31m# Close bar and return pandas calculation result\u001b[0m\u001b[0;34m\u001b[0m\u001b[0;34m\u001b[0m\u001b[0;34m\u001b[0m\u001b[0m\n",
      "\u001b[0;32m/anaconda3/lib/python3.7/site-packages/pandas/core/series.py\u001b[0m in \u001b[0;36mmap\u001b[0;34m(self, arg, na_action)\u001b[0m\n\u001b[1;32m   3819\u001b[0m         \u001b[0mdtype\u001b[0m\u001b[0;34m:\u001b[0m \u001b[0mobject\u001b[0m\u001b[0;34m\u001b[0m\u001b[0;34m\u001b[0m\u001b[0m\n\u001b[1;32m   3820\u001b[0m         \"\"\"\n\u001b[0;32m-> 3821\u001b[0;31m         \u001b[0mnew_values\u001b[0m \u001b[0;34m=\u001b[0m \u001b[0msuper\u001b[0m\u001b[0;34m(\u001b[0m\u001b[0;34m)\u001b[0m\u001b[0;34m.\u001b[0m\u001b[0m_map_values\u001b[0m\u001b[0;34m(\u001b[0m\u001b[0marg\u001b[0m\u001b[0;34m,\u001b[0m \u001b[0mna_action\u001b[0m\u001b[0;34m=\u001b[0m\u001b[0mna_action\u001b[0m\u001b[0;34m)\u001b[0m\u001b[0;34m\u001b[0m\u001b[0;34m\u001b[0m\u001b[0m\n\u001b[0m\u001b[1;32m   3822\u001b[0m         \u001b[0;32mreturn\u001b[0m \u001b[0mself\u001b[0m\u001b[0;34m.\u001b[0m\u001b[0m_constructor\u001b[0m\u001b[0;34m(\u001b[0m\u001b[0mnew_values\u001b[0m\u001b[0;34m,\u001b[0m \u001b[0mindex\u001b[0m\u001b[0;34m=\u001b[0m\u001b[0mself\u001b[0m\u001b[0;34m.\u001b[0m\u001b[0mindex\u001b[0m\u001b[0;34m)\u001b[0m\u001b[0;34m.\u001b[0m\u001b[0m__finalize__\u001b[0m\u001b[0;34m(\u001b[0m\u001b[0mself\u001b[0m\u001b[0;34m)\u001b[0m\u001b[0;34m\u001b[0m\u001b[0;34m\u001b[0m\u001b[0m\n\u001b[1;32m   3823\u001b[0m \u001b[0;34m\u001b[0m\u001b[0m\n",
      "\u001b[0;32m/anaconda3/lib/python3.7/site-packages/pandas/core/base.py\u001b[0m in \u001b[0;36m_map_values\u001b[0;34m(self, mapper, na_action)\u001b[0m\n\u001b[1;32m   1298\u001b[0m \u001b[0;34m\u001b[0m\u001b[0m\n\u001b[1;32m   1299\u001b[0m         \u001b[0;31m# mapper is a function\u001b[0m\u001b[0;34m\u001b[0m\u001b[0;34m\u001b[0m\u001b[0;34m\u001b[0m\u001b[0m\n\u001b[0;32m-> 1300\u001b[0;31m         \u001b[0mnew_values\u001b[0m \u001b[0;34m=\u001b[0m \u001b[0mmap_f\u001b[0m\u001b[0;34m(\u001b[0m\u001b[0mvalues\u001b[0m\u001b[0;34m,\u001b[0m \u001b[0mmapper\u001b[0m\u001b[0;34m)\u001b[0m\u001b[0;34m\u001b[0m\u001b[0;34m\u001b[0m\u001b[0m\n\u001b[0m\u001b[1;32m   1301\u001b[0m \u001b[0;34m\u001b[0m\u001b[0m\n\u001b[1;32m   1302\u001b[0m         \u001b[0;32mreturn\u001b[0m \u001b[0mnew_values\u001b[0m\u001b[0;34m\u001b[0m\u001b[0;34m\u001b[0m\u001b[0m\n",
      "\u001b[0;32mpandas/_libs/lib.pyx\u001b[0m in \u001b[0;36mpandas._libs.lib.map_infer\u001b[0;34m()\u001b[0m\n",
      "\u001b[0;32m/anaconda3/lib/python3.7/site-packages/tqdm/_tqdm.py\u001b[0m in \u001b[0;36mwrapper\u001b[0;34m(*args, **kwargs)\u001b[0m\n\u001b[1;32m    685\u001b[0m                     \u001b[0;31m# take a fast or slow code path; so stop when t.total==t.n\u001b[0m\u001b[0;34m\u001b[0m\u001b[0;34m\u001b[0m\u001b[0;34m\u001b[0m\u001b[0m\n\u001b[1;32m    686\u001b[0m                     \u001b[0mt\u001b[0m\u001b[0;34m.\u001b[0m\u001b[0mupdate\u001b[0m\u001b[0;34m(\u001b[0m\u001b[0mn\u001b[0m\u001b[0;34m=\u001b[0m\u001b[0;36m1\u001b[0m \u001b[0;32mif\u001b[0m \u001b[0;32mnot\u001b[0m \u001b[0mt\u001b[0m\u001b[0;34m.\u001b[0m\u001b[0mtotal\u001b[0m \u001b[0;32mor\u001b[0m \u001b[0mt\u001b[0m\u001b[0;34m.\u001b[0m\u001b[0mn\u001b[0m \u001b[0;34m<\u001b[0m \u001b[0mt\u001b[0m\u001b[0;34m.\u001b[0m\u001b[0mtotal\u001b[0m \u001b[0;32melse\u001b[0m \u001b[0;36m0\u001b[0m\u001b[0;34m)\u001b[0m\u001b[0;34m\u001b[0m\u001b[0;34m\u001b[0m\u001b[0m\n\u001b[0;32m--> 687\u001b[0;31m                     \u001b[0;32mreturn\u001b[0m \u001b[0mfunc\u001b[0m\u001b[0;34m(\u001b[0m\u001b[0;34m*\u001b[0m\u001b[0margs\u001b[0m\u001b[0;34m,\u001b[0m \u001b[0;34m**\u001b[0m\u001b[0mkwargs\u001b[0m\u001b[0;34m)\u001b[0m\u001b[0;34m\u001b[0m\u001b[0;34m\u001b[0m\u001b[0m\n\u001b[0m\u001b[1;32m    688\u001b[0m \u001b[0;34m\u001b[0m\u001b[0m\n\u001b[1;32m    689\u001b[0m                 \u001b[0;31m# Apply the provided function (in **kwargs)\u001b[0m\u001b[0;34m\u001b[0m\u001b[0;34m\u001b[0m\u001b[0;34m\u001b[0m\u001b[0m\n",
      "\u001b[0;32m/anaconda3/lib/python3.7/site-packages/langdetect/detector_factory.py\u001b[0m in \u001b[0;36mdetect\u001b[0;34m(text)\u001b[0m\n\u001b[1;32m    128\u001b[0m     \u001b[0mdetector\u001b[0m \u001b[0;34m=\u001b[0m \u001b[0m_factory\u001b[0m\u001b[0;34m.\u001b[0m\u001b[0mcreate\u001b[0m\u001b[0;34m(\u001b[0m\u001b[0;34m)\u001b[0m\u001b[0;34m\u001b[0m\u001b[0;34m\u001b[0m\u001b[0m\n\u001b[1;32m    129\u001b[0m     \u001b[0mdetector\u001b[0m\u001b[0;34m.\u001b[0m\u001b[0mappend\u001b[0m\u001b[0;34m(\u001b[0m\u001b[0mtext\u001b[0m\u001b[0;34m)\u001b[0m\u001b[0;34m\u001b[0m\u001b[0;34m\u001b[0m\u001b[0m\n\u001b[0;32m--> 130\u001b[0;31m     \u001b[0;32mreturn\u001b[0m \u001b[0mdetector\u001b[0m\u001b[0;34m.\u001b[0m\u001b[0mdetect\u001b[0m\u001b[0;34m(\u001b[0m\u001b[0;34m)\u001b[0m\u001b[0;34m\u001b[0m\u001b[0;34m\u001b[0m\u001b[0m\n\u001b[0m\u001b[1;32m    131\u001b[0m \u001b[0;34m\u001b[0m\u001b[0m\n\u001b[1;32m    132\u001b[0m \u001b[0;34m\u001b[0m\u001b[0m\n",
      "\u001b[0;32m/anaconda3/lib/python3.7/site-packages/langdetect/detector.py\u001b[0m in \u001b[0;36mdetect\u001b[0;34m(self)\u001b[0m\n\u001b[1;32m    134\u001b[0m         \u001b[0mwhich\u001b[0m \u001b[0mhas\u001b[0m \u001b[0mthe\u001b[0m \u001b[0mhighest\u001b[0m \u001b[0mprobability\u001b[0m\u001b[0;34m.\u001b[0m\u001b[0;34m\u001b[0m\u001b[0;34m\u001b[0m\u001b[0m\n\u001b[1;32m    135\u001b[0m         '''\n\u001b[0;32m--> 136\u001b[0;31m         \u001b[0mprobabilities\u001b[0m \u001b[0;34m=\u001b[0m \u001b[0mself\u001b[0m\u001b[0;34m.\u001b[0m\u001b[0mget_probabilities\u001b[0m\u001b[0;34m(\u001b[0m\u001b[0;34m)\u001b[0m\u001b[0;34m\u001b[0m\u001b[0;34m\u001b[0m\u001b[0m\n\u001b[0m\u001b[1;32m    137\u001b[0m         \u001b[0;32mif\u001b[0m \u001b[0mprobabilities\u001b[0m\u001b[0;34m:\u001b[0m\u001b[0;34m\u001b[0m\u001b[0;34m\u001b[0m\u001b[0m\n\u001b[1;32m    138\u001b[0m             \u001b[0;32mreturn\u001b[0m \u001b[0mprobabilities\u001b[0m\u001b[0;34m[\u001b[0m\u001b[0;36m0\u001b[0m\u001b[0;34m]\u001b[0m\u001b[0;34m.\u001b[0m\u001b[0mlang\u001b[0m\u001b[0;34m\u001b[0m\u001b[0;34m\u001b[0m\u001b[0m\n",
      "\u001b[0;32m/anaconda3/lib/python3.7/site-packages/langdetect/detector.py\u001b[0m in \u001b[0;36mget_probabilities\u001b[0;34m(self)\u001b[0m\n\u001b[1;32m    141\u001b[0m     \u001b[0;32mdef\u001b[0m \u001b[0mget_probabilities\u001b[0m\u001b[0;34m(\u001b[0m\u001b[0mself\u001b[0m\u001b[0;34m)\u001b[0m\u001b[0;34m:\u001b[0m\u001b[0;34m\u001b[0m\u001b[0;34m\u001b[0m\u001b[0m\n\u001b[1;32m    142\u001b[0m         \u001b[0;32mif\u001b[0m \u001b[0mself\u001b[0m\u001b[0;34m.\u001b[0m\u001b[0mlangprob\u001b[0m \u001b[0;32mis\u001b[0m \u001b[0;32mNone\u001b[0m\u001b[0;34m:\u001b[0m\u001b[0;34m\u001b[0m\u001b[0;34m\u001b[0m\u001b[0m\n\u001b[0;32m--> 143\u001b[0;31m             \u001b[0mself\u001b[0m\u001b[0;34m.\u001b[0m\u001b[0m_detect_block\u001b[0m\u001b[0;34m(\u001b[0m\u001b[0;34m)\u001b[0m\u001b[0;34m\u001b[0m\u001b[0;34m\u001b[0m\u001b[0m\n\u001b[0m\u001b[1;32m    144\u001b[0m         \u001b[0;32mreturn\u001b[0m \u001b[0mself\u001b[0m\u001b[0;34m.\u001b[0m\u001b[0m_sort_probability\u001b[0m\u001b[0;34m(\u001b[0m\u001b[0mself\u001b[0m\u001b[0;34m.\u001b[0m\u001b[0mlangprob\u001b[0m\u001b[0;34m)\u001b[0m\u001b[0;34m\u001b[0m\u001b[0;34m\u001b[0m\u001b[0m\n\u001b[1;32m    145\u001b[0m \u001b[0;34m\u001b[0m\u001b[0m\n",
      "\u001b[0;32m/anaconda3/lib/python3.7/site-packages/langdetect/detector.py\u001b[0m in \u001b[0;36m_detect_block\u001b[0;34m(self)\u001b[0m\n\u001b[1;32m    148\u001b[0m         \u001b[0mngrams\u001b[0m \u001b[0;34m=\u001b[0m \u001b[0mself\u001b[0m\u001b[0;34m.\u001b[0m\u001b[0m_extract_ngrams\u001b[0m\u001b[0;34m(\u001b[0m\u001b[0;34m)\u001b[0m\u001b[0;34m\u001b[0m\u001b[0;34m\u001b[0m\u001b[0m\n\u001b[1;32m    149\u001b[0m         \u001b[0;32mif\u001b[0m \u001b[0;32mnot\u001b[0m \u001b[0mngrams\u001b[0m\u001b[0;34m:\u001b[0m\u001b[0;34m\u001b[0m\u001b[0;34m\u001b[0m\u001b[0m\n\u001b[0;32m--> 150\u001b[0;31m             \u001b[0;32mraise\u001b[0m \u001b[0mLangDetectException\u001b[0m\u001b[0;34m(\u001b[0m\u001b[0mErrorCode\u001b[0m\u001b[0;34m.\u001b[0m\u001b[0mCantDetectError\u001b[0m\u001b[0;34m,\u001b[0m \u001b[0;34m'No features in text.'\u001b[0m\u001b[0;34m)\u001b[0m\u001b[0;34m\u001b[0m\u001b[0;34m\u001b[0m\u001b[0m\n\u001b[0m\u001b[1;32m    151\u001b[0m \u001b[0;34m\u001b[0m\u001b[0m\n\u001b[1;32m    152\u001b[0m         \u001b[0mself\u001b[0m\u001b[0;34m.\u001b[0m\u001b[0mlangprob\u001b[0m \u001b[0;34m=\u001b[0m \u001b[0;34m[\u001b[0m\u001b[0;36m0.0\u001b[0m\u001b[0;34m]\u001b[0m \u001b[0;34m*\u001b[0m \u001b[0mlen\u001b[0m\u001b[0;34m(\u001b[0m\u001b[0mself\u001b[0m\u001b[0;34m.\u001b[0m\u001b[0mlanglist\u001b[0m\u001b[0;34m)\u001b[0m\u001b[0;34m\u001b[0m\u001b[0;34m\u001b[0m\u001b[0m\n",
      "\u001b[0;31mLangDetectException\u001b[0m: No features in text."
     ]
    }
   ],
   "source": [
    "data['lang'] = data.text.progress_map(detect)"
   ]
  },
  {
   "cell_type": "code",
   "execution_count": 11,
   "metadata": {
    "scrolled": false
   },
   "outputs": [
    {
     "data": {
      "text/plain": [
       "ru    9107\n",
       "bg       1\n",
       "Name: lang, dtype: int64"
      ]
     },
     "execution_count": 11,
     "metadata": {},
     "output_type": "execute_result"
    }
   ],
   "source": [
    "data.lang.value_counts()"
   ]
  },
  {
   "cell_type": "code",
   "execution_count": 12,
   "metadata": {},
   "outputs": [],
   "source": [
    "data = data.loc[data.lang=='ru']"
   ]
  },
  {
   "cell_type": "markdown",
   "metadata": {},
   "source": [
    "#### Tokenization"
   ]
  },
  {
   "cell_type": "code",
   "execution_count": 8,
   "metadata": {},
   "outputs": [
    {
     "data": {
      "text/html": [
       "<div>\n",
       "<style scoped>\n",
       "    .dataframe tbody tr th:only-of-type {\n",
       "        vertical-align: middle;\n",
       "    }\n",
       "\n",
       "    .dataframe tbody tr th {\n",
       "        vertical-align: top;\n",
       "    }\n",
       "\n",
       "    .dataframe thead th {\n",
       "        text-align: right;\n",
       "    }\n",
       "</style>\n",
       "<table border=\"1\" class=\"dataframe\">\n",
       "  <thead>\n",
       "    <tr style=\"text-align: right;\">\n",
       "      <th></th>\n",
       "      <th>sp_id</th>\n",
       "      <th>local_datetime</th>\n",
       "      <th>text</th>\n",
       "      <th>lemma</th>\n",
       "    </tr>\n",
       "  </thead>\n",
       "  <tbody>\n",
       "    <tr>\n",
       "      <th>5</th>\n",
       "      <td>2</td>\n",
       "      <td>2018-04-06T00:12:29+0300</td>\n",
       "      <td>giving you money back. thanks</td>\n",
       "      <td>[giving, you, money, back, thanks]</td>\n",
       "    </tr>\n",
       "    <tr>\n",
       "      <th>6</th>\n",
       "      <td>2</td>\n",
       "      <td>2018-04-06T00:14:18+0300</td>\n",
       "      <td>giving you money back. thanks</td>\n",
       "      <td>[giving, you, money, back, thanks]</td>\n",
       "    </tr>\n",
       "    <tr>\n",
       "      <th>7</th>\n",
       "      <td>2</td>\n",
       "      <td>2018-04-06T00:22:56+0300</td>\n",
       "      <td>for Ivan's birthday</td>\n",
       "      <td>[for, ivan, birthday]</td>\n",
       "    </tr>\n",
       "    <tr>\n",
       "      <th>8</th>\n",
       "      <td>2</td>\n",
       "      <td>2018-04-06T00:24:03+0300</td>\n",
       "      <td>for Ivan's birthday</td>\n",
       "      <td>[for, ivan, birthday]</td>\n",
       "    </tr>\n",
       "    <tr>\n",
       "      <th>9</th>\n",
       "      <td>2</td>\n",
       "      <td>2018-04-06T14:09:20+0300</td>\n",
       "      <td>for Ivan's birthday</td>\n",
       "      <td>[for, ivan, birthday]</td>\n",
       "    </tr>\n",
       "  </tbody>\n",
       "</table>\n",
       "</div>"
      ],
      "text/plain": [
       "   sp_id            local_datetime                           text  \\\n",
       "5      2  2018-04-06T00:12:29+0300  giving you money back. thanks   \n",
       "6      2  2018-04-06T00:14:18+0300  giving you money back. thanks   \n",
       "7      2  2018-04-06T00:22:56+0300            for Ivan's birthday   \n",
       "8      2  2018-04-06T00:24:03+0300            for Ivan's birthday   \n",
       "9      2  2018-04-06T14:09:20+0300            for Ivan's birthday   \n",
       "\n",
       "                                lemma  \n",
       "5  [giving, you, money, back, thanks]  \n",
       "6  [giving, you, money, back, thanks]  \n",
       "7               [for, ivan, birthday]  \n",
       "8               [for, ivan, birthday]  \n",
       "9               [for, ivan, birthday]  "
      ]
     },
     "execution_count": 8,
     "metadata": {},
     "output_type": "execute_result"
    }
   ],
   "source": [
    "data.head()"
   ]
  },
  {
   "cell_type": "code",
   "execution_count": 13,
   "metadata": {},
   "outputs": [
    {
     "data": {
      "text/html": [
       "<div>\n",
       "<style scoped>\n",
       "    .dataframe tbody tr th:only-of-type {\n",
       "        vertical-align: middle;\n",
       "    }\n",
       "\n",
       "    .dataframe tbody tr th {\n",
       "        vertical-align: top;\n",
       "    }\n",
       "\n",
       "    .dataframe thead th {\n",
       "        text-align: right;\n",
       "    }\n",
       "</style>\n",
       "<table border=\"1\" class=\"dataframe\">\n",
       "  <thead>\n",
       "    <tr style=\"text-align: right;\">\n",
       "      <th></th>\n",
       "      <th>index</th>\n",
       "      <th>sp_id</th>\n",
       "      <th>local_datetime</th>\n",
       "      <th>text</th>\n",
       "      <th>lemma</th>\n",
       "      <th>sentences</th>\n",
       "    </tr>\n",
       "  </thead>\n",
       "  <tbody>\n",
       "    <tr>\n",
       "      <th>0</th>\n",
       "      <td>5</td>\n",
       "      <td>2</td>\n",
       "      <td>2018-04-06T00:12:29+0300</td>\n",
       "      <td>giving you money back. thanks</td>\n",
       "      <td>[giving, you, money, back, thanks]</td>\n",
       "      <td>[giving you money back., thanks]</td>\n",
       "    </tr>\n",
       "    <tr>\n",
       "      <th>1</th>\n",
       "      <td>6</td>\n",
       "      <td>2</td>\n",
       "      <td>2018-04-06T00:14:18+0300</td>\n",
       "      <td>giving you money back. thanks</td>\n",
       "      <td>[giving, you, money, back, thanks]</td>\n",
       "      <td>[giving you money back., thanks]</td>\n",
       "    </tr>\n",
       "  </tbody>\n",
       "</table>\n",
       "</div>"
      ],
      "text/plain": [
       "   index  sp_id            local_datetime                           text  \\\n",
       "0      5      2  2018-04-06T00:12:29+0300  giving you money back. thanks   \n",
       "1      6      2  2018-04-06T00:14:18+0300  giving you money back. thanks   \n",
       "\n",
       "                                lemma                         sentences  \n",
       "0  [giving, you, money, back, thanks]  [giving you money back., thanks]  \n",
       "1  [giving, you, money, back, thanks]  [giving you money back., thanks]  "
      ]
     },
     "execution_count": 13,
     "metadata": {},
     "output_type": "execute_result"
    }
   ],
   "source": [
    "data = data.reset_index()\n",
    "data.head(2)"
   ]
  },
  {
   "cell_type": "code",
   "execution_count": 14,
   "metadata": {},
   "outputs": [],
   "source": [
    "from nltk.tokenize import sent_tokenize"
   ]
  },
  {
   "cell_type": "code",
   "execution_count": 15,
   "metadata": {},
   "outputs": [
    {
     "data": {
      "application/vnd.jupyter.widget-view+json": {
       "model_id": "432a8019816d4e1581a5983c6c712ea3",
       "version_major": 2,
       "version_minor": 0
      },
      "text/plain": [
       "HBox(children=(IntProgress(value=0, max=33183), HTML(value='')))"
      ]
     },
     "metadata": {},
     "output_type": "display_data"
    },
    {
     "data": {
      "text/plain": [
       "['giving you money back.', 'thanks']"
      ]
     },
     "execution_count": 15,
     "metadata": {},
     "output_type": "execute_result"
    }
   ],
   "source": [
    "data['sentences'] = data.text.progress_map(sent_tokenize)\n",
    "data['sentences'].head(1).tolist()[0][:3] # Print the first 3 sentences of the 1st article"
   ]
  },
  {
   "cell_type": "code",
   "execution_count": 16,
   "metadata": {},
   "outputs": [
    {
     "data": {
      "text/plain": [
       "0    [giving you money back., thanks]\n",
       "Name: sentences, dtype: object"
      ]
     },
     "execution_count": 16,
     "metadata": {},
     "output_type": "execute_result"
    }
   ],
   "source": [
    "data['sentences'].head(1)"
   ]
  },
  {
   "cell_type": "code",
   "execution_count": 17,
   "metadata": {},
   "outputs": [
    {
     "data": {
      "text/plain": [
       "['giving you money back.', 'thanks']"
      ]
     },
     "execution_count": 17,
     "metadata": {},
     "output_type": "execute_result"
    }
   ],
   "source": [
    "data['sentences'].head(1)[0]"
   ]
  },
  {
   "cell_type": "code",
   "execution_count": 18,
   "metadata": {},
   "outputs": [
    {
     "data": {
      "text/plain": [
       "list"
      ]
     },
     "execution_count": 18,
     "metadata": {},
     "output_type": "execute_result"
    }
   ],
   "source": [
    "type(data['sentences'].head(1)[0])"
   ]
  },
  {
   "cell_type": "code",
   "execution_count": 19,
   "metadata": {},
   "outputs": [
    {
     "data": {
      "text/plain": [
       "[['giving you money back.', 'thanks']]"
      ]
     },
     "execution_count": 19,
     "metadata": {},
     "output_type": "execute_result"
    }
   ],
   "source": [
    "data['sentences'].head(1).tolist()"
   ]
  },
  {
   "cell_type": "code",
   "execution_count": 20,
   "metadata": {},
   "outputs": [],
   "source": [
    "from nltk.tokenize import word_tokenize"
   ]
  },
  {
   "cell_type": "code",
   "execution_count": 21,
   "metadata": {
    "scrolled": true
   },
   "outputs": [
    {
     "data": {
      "application/vnd.jupyter.widget-view+json": {
       "model_id": "88af91e3ca184442a6ec0cd0ca304a53",
       "version_major": 2,
       "version_minor": 0
      },
      "text/plain": [
       "HBox(children=(IntProgress(value=0, max=33183), HTML(value='')))"
      ]
     },
     "metadata": {},
     "output_type": "display_data"
    },
    {
     "name": "stdout",
     "output_type": "stream",
     "text": [
      "[['giving', 'you', 'money', 'back', '.'], ['thanks']]\n"
     ]
    }
   ],
   "source": [
    "data['tokens_sentences'] = data['sentences'].progress_map(lambda sentences: [word_tokenize(sentence) for sentence in sentences])\n",
    "print(data['tokens_sentences'].head(1).tolist()[0][:3])"
   ]
  },
  {
   "cell_type": "markdown",
   "metadata": {},
   "source": [
    "#### Lemmatizing with POS tagging"
   ]
  },
  {
   "cell_type": "code",
   "execution_count": 22,
   "metadata": {},
   "outputs": [],
   "source": [
    "from nltk import pos_tag"
   ]
  },
  {
   "cell_type": "code",
   "execution_count": 23,
   "metadata": {},
   "outputs": [
    {
     "name": "stdout",
     "output_type": "stream",
     "text": [
      "[nltk_data] Downloading package averaged_perceptron_tagger_ru to\n",
      "[nltk_data]     /Users/sergeyzakharov/nltk_data...\n",
      "[nltk_data]   Package averaged_perceptron_tagger_ru is already up-to-\n",
      "[nltk_data]       date!\n"
     ]
    },
    {
     "data": {
      "text/plain": [
       "True"
      ]
     },
     "execution_count": 23,
     "metadata": {},
     "output_type": "execute_result"
    }
   ],
   "source": [
    "import nltk\n",
    "nltk.download('averaged_perceptron_tagger_ru')"
   ]
  },
  {
   "cell_type": "code",
   "execution_count": 24,
   "metadata": {},
   "outputs": [
    {
     "data": {
      "application/vnd.jupyter.widget-view+json": {
       "model_id": "84de31a82d924b14adb911f5d2ef7c37",
       "version_major": 2,
       "version_minor": 0
      },
      "text/plain": [
       "HBox(children=(IntProgress(value=0, max=33183), HTML(value='')))"
      ]
     },
     "metadata": {},
     "output_type": "display_data"
    },
    {
     "name": "stdout",
     "output_type": "stream",
     "text": [
      "[[('giving', 'LATN'), ('you', 'LATN'), ('money', 'LATN'), ('back', 'LATN'), ('.', 'PNCT')], [('thanks', 'LATN')]]\n"
     ]
    }
   ],
   "source": [
    "#morph.parse('шестнадцать')[0].tag._POS\n",
    "#data['POS_tokens'] = data['tokens_sentences'].progress_map(lambda tokens_sentences: [(token, morph.parse(token)[0].tag._POS) for token in tokens for tokens in tokens_sentences])\n",
    "import pymorphy2\n",
    "morph = pymorphy2.MorphAnalyzer()\n",
    "\n",
    "def get_proper_tag( token ):\n",
    "\n",
    "    p = morph.parse(token)[0]\n",
    "    tag  = p.tag._POS\n",
    "    \n",
    "    if ( 'Name' in p.tag):\n",
    "        return \"PERSON\"\n",
    "    else:\n",
    "        return tag\n",
    "\n",
    "data['POS_tokens'] = data['tokens_sentences'].progress_map(lambda tokens_sentences: [[ ( tok, get_proper_tag(tok)) for tok in tokens]   for tokens in tokens_sentences  ])\n",
    "print(data['POS_tokens'].head(1).tolist()[0][:3])"
   ]
  },
  {
   "cell_type": "code",
   "execution_count": 25,
   "metadata": {},
   "outputs": [],
   "source": [
    "# Inspired from https://stackoverflow.com/a/15590384\n",
    "from nltk.corpus import wordnet\n",
    "\n",
    "def get_wordnet_pos(treebank_tag, token, full):\n",
    "\n",
    "    #if ( token == 'семьсот'):\n",
    "    #    print(\"Horror {} and its tag={}\".format(full, treebank_tag))\n",
    "    if treebank_tag.startswith('VERB'):\n",
    "        return wordnet.VERB\n",
    "    elif treebank_tag.startswith('NOUN'):\n",
    "        return wordnet.NOUN\n",
    "    elif treebank_tag.startswith('INFN'):\n",
    "        return wordnet.VERB\n",
    "    #elif treebank_tag.startswith('R'):\n",
    "    #    return wordnet.ADV\n",
    "    else:\n",
    "        return ''\n",
    "\n",
    "from nltk.stem.wordnet import WordNetLemmatizer\n",
    "lemmatizer = WordNetLemmatizer()"
   ]
  },
  {
   "cell_type": "code",
   "execution_count": 26,
   "metadata": {},
   "outputs": [
    {
     "name": "stdout",
     "output_type": "stream",
     "text": [
      "[nltk_data] Downloading package wordnet to\n",
      "[nltk_data]     /Users/sergeyzakharov/nltk_data...\n",
      "[nltk_data]   Package wordnet is already up-to-date!\n"
     ]
    },
    {
     "data": {
      "text/plain": [
       "True"
      ]
     },
     "execution_count": 26,
     "metadata": {},
     "output_type": "execute_result"
    }
   ],
   "source": [
    "nltk.download('wordnet')"
   ]
  },
  {
   "cell_type": "code",
   "execution_count": 27,
   "metadata": {},
   "outputs": [
    {
     "data": {
      "text/html": [
       "<div>\n",
       "<style scoped>\n",
       "    .dataframe tbody tr th:only-of-type {\n",
       "        vertical-align: middle;\n",
       "    }\n",
       "\n",
       "    .dataframe tbody tr th {\n",
       "        vertical-align: top;\n",
       "    }\n",
       "\n",
       "    .dataframe thead th {\n",
       "        text-align: right;\n",
       "    }\n",
       "</style>\n",
       "<table border=\"1\" class=\"dataframe\">\n",
       "  <thead>\n",
       "    <tr style=\"text-align: right;\">\n",
       "      <th></th>\n",
       "      <th>index</th>\n",
       "      <th>sp_id</th>\n",
       "      <th>local_datetime</th>\n",
       "      <th>text</th>\n",
       "      <th>lemma</th>\n",
       "      <th>sentences</th>\n",
       "      <th>tokens_sentences</th>\n",
       "      <th>POS_tokens</th>\n",
       "    </tr>\n",
       "  </thead>\n",
       "  <tbody>\n",
       "    <tr>\n",
       "      <th>0</th>\n",
       "      <td>5</td>\n",
       "      <td>2</td>\n",
       "      <td>2018-04-06T00:12:29+0300</td>\n",
       "      <td>giving you money back. thanks</td>\n",
       "      <td>[giving, you, money, back, thanks]</td>\n",
       "      <td>[giving you money back., thanks]</td>\n",
       "      <td>[[giving, you, money, back, .], [thanks]]</td>\n",
       "      <td>[[(giving, LATN), (you, LATN), (money, LATN), ...</td>\n",
       "    </tr>\n",
       "    <tr>\n",
       "      <th>1</th>\n",
       "      <td>6</td>\n",
       "      <td>2</td>\n",
       "      <td>2018-04-06T00:14:18+0300</td>\n",
       "      <td>giving you money back. thanks</td>\n",
       "      <td>[giving, you, money, back, thanks]</td>\n",
       "      <td>[giving you money back., thanks]</td>\n",
       "      <td>[[giving, you, money, back, .], [thanks]]</td>\n",
       "      <td>[[(giving, LATN), (you, LATN), (money, LATN), ...</td>\n",
       "    </tr>\n",
       "  </tbody>\n",
       "</table>\n",
       "</div>"
      ],
      "text/plain": [
       "   index  sp_id            local_datetime                           text  \\\n",
       "0      5      2  2018-04-06T00:12:29+0300  giving you money back. thanks   \n",
       "1      6      2  2018-04-06T00:14:18+0300  giving you money back. thanks   \n",
       "\n",
       "                                lemma                         sentences  \\\n",
       "0  [giving, you, money, back, thanks]  [giving you money back., thanks]   \n",
       "1  [giving, you, money, back, thanks]  [giving you money back., thanks]   \n",
       "\n",
       "                            tokens_sentences  \\\n",
       "0  [[giving, you, money, back, .], [thanks]]   \n",
       "1  [[giving, you, money, back, .], [thanks]]   \n",
       "\n",
       "                                          POS_tokens  \n",
       "0  [[(giving, LATN), (you, LATN), (money, LATN), ...  \n",
       "1  [[(giving, LATN), (you, LATN), (money, LATN), ...  "
      ]
     },
     "execution_count": 27,
     "metadata": {},
     "output_type": "execute_result"
    }
   ],
   "source": [
    "data.head(2)"
   ]
  },
  {
   "cell_type": "code",
   "execution_count": 28,
   "metadata": {},
   "outputs": [
    {
     "data": {
      "application/vnd.jupyter.widget-view+json": {
       "model_id": "6f751b36090a490281cdf484c605c10a",
       "version_major": 2,
       "version_minor": 0
      },
      "text/plain": [
       "HBox(children=(IntProgress(value=0, max=33183), HTML(value='')))"
      ]
     },
     "metadata": {},
     "output_type": "display_data"
    }
   ],
   "source": [
    "\n",
    "# Lemmatizing each word with its POS tag, in each sentence\n",
    "#data['POS_tokens'] = data['POS_tokens'].progress_filter( lambda list_tokens_POS : filte)\n",
    "data['tokens_sentences_lemmatized'] = data['POS_tokens'].progress_map(\n",
    "    lambda list_tokens_POS:  [\n",
    "        [\n",
    "            morph.parse(el[0])[0].normal_form\n",
    "            for el in tokens_POS if get_wordnet_pos( el[1], el[0], tokens_POS) != ''\n",
    "        ] \n",
    "        for tokens_POS in list_tokens_POS\n",
    "    ]\n",
    ")"
   ]
  },
  {
   "cell_type": "code",
   "execution_count": 29,
   "metadata": {
    "scrolled": true
   },
   "outputs": [
    {
     "data": {
      "text/plain": [
       "[[[], []], [[], []], [[]]]"
      ]
     },
     "execution_count": 29,
     "metadata": {},
     "output_type": "execute_result"
    }
   ],
   "source": [
    "data['tokens_sentences_lemmatized'].head(10).tolist()[:10][:3]\n",
    "\n",
    "#list(filter( lambda x: x != None, data['tokens_sentences_lemmatized'].head(1).tolist()[0][0]))"
   ]
  },
  {
   "cell_type": "markdown",
   "metadata": {},
   "source": [
    "#### Regrouping tokens and removing stop words"
   ]
  },
  {
   "cell_type": "code",
   "execution_count": 30,
   "metadata": {},
   "outputs": [
    {
     "name": "stdout",
     "output_type": "stream",
     "text": [
      "[nltk_data] Downloading package stopwords to\n",
      "[nltk_data]     /Users/sergeyzakharov/nltk_data...\n",
      "[nltk_data]   Package stopwords is already up-to-date!\n"
     ]
    },
    {
     "data": {
      "text/plain": [
       "True"
      ]
     },
     "execution_count": 30,
     "metadata": {},
     "output_type": "execute_result"
    }
   ],
   "source": [
    "nltk.download('stopwords')"
   ]
  },
  {
   "cell_type": "code",
   "execution_count": 31,
   "metadata": {},
   "outputs": [],
   "source": [
    "from nltk.corpus import stopwords\n",
    "stopwords_other = ['тысяча','минутка','секунда','минуточка','секундочка','цифра','алло','телефон','номер','ноль','девушка', 'свидание','хотеть', 'всё','просто','спасибо','верно','ага','здравствовать','мочь','без', 'более', 'бы', 'быть', 'вам', 'вас', 'ведь', 'весь', 'вдоль', 'вместо', 'вне', 'вниз', 'внизу', 'внутри', 'во', 'вокруг', 'вот', 'все', 'всегда', 'всего', 'всех', 'вы', 'где', 'да', 'давай', 'давать', 'даже', 'для', 'до', 'достаточно', 'его', 'ее', 'её', 'если', 'есть', 'ещё', 'же', 'за', 'исключением', 'здесь', 'из', 'из-за', 'или', 'им', 'иметь', 'их', 'как', 'как-то', 'кто', 'когда', 'кроме', 'кто', 'ли', 'либо', 'мне', 'может', 'мои', 'мой', 'мы', 'на', 'навсегда', 'над', 'надо', 'наш', 'не', 'него', 'неё', 'нет', 'ни', 'них', 'но', 'ну', 'об', 'однако', 'он', 'она', 'они', 'оно', 'от', 'отчего', 'очень', 'по', 'под', 'после', 'потому', 'что', 'почти', 'при', 'про', 'снова', 'со', 'так', 'также', 'такие', 'такой', 'там', 'те', 'тем', 'то', 'того', 'тоже', 'той', 'только', 'том', 'тут', 'ты', 'уже', 'хотя', 'чего', 'чего-то', 'чей', 'чем', 'что', 'чтобы', 'чьё', 'чья', 'эта', 'эти', 'это']\n",
    "my_stopwords = stopwords.words('russian') +  stopwords_other"
   ]
  },
  {
   "cell_type": "code",
   "execution_count": 32,
   "metadata": {},
   "outputs": [],
   "source": [
    "from itertools import chain # to flatten list of sentences of tokens into list of tokens"
   ]
  },
  {
   "cell_type": "code",
   "execution_count": 33,
   "metadata": {},
   "outputs": [],
   "source": [
    "data['tokens'] = data['tokens_sentences_lemmatized'].map(lambda sentences: list(chain.from_iterable(sentences)))\n",
    "data['tokens'] = data['tokens'].map(lambda tokens: [token.lower() for token in tokens if token.isalpha() \n",
    "                                                    and token.lower() not in my_stopwords and len(token)>1])"
   ]
  },
  {
   "cell_type": "code",
   "execution_count": 34,
   "metadata": {
    "scrolled": true
   },
   "outputs": [
    {
     "data": {
      "text/plain": [
       "[[], [], [], [], [], [], [], [], [], []]"
      ]
     },
     "execution_count": 34,
     "metadata": {},
     "output_type": "execute_result"
    }
   ],
   "source": [
    "data['tokens'].head(10).tolist()[:10][:30]"
   ]
  },
  {
   "cell_type": "markdown",
   "metadata": {},
   "source": [
    "# LDA"
   ]
  },
  {
   "cell_type": "markdown",
   "metadata": {},
   "source": [
    "## Data preparation"
   ]
  },
  {
   "cell_type": "markdown",
   "metadata": {},
   "source": [
    "#### Prepare bi-grams and tri-grams"
   ]
  },
  {
   "cell_type": "code",
   "execution_count": 35,
   "metadata": {},
   "outputs": [],
   "source": [
    "from gensim.models import Phrases"
   ]
  },
  {
   "cell_type": "code",
   "execution_count": 36,
   "metadata": {},
   "outputs": [],
   "source": [
    "tokens = data['tokens'].tolist()\n",
    "bigram_model = Phrases(tokens)\n",
    "trigram_model = Phrases(bigram_model[tokens], min_count=1)\n",
    "tokens = list(trigram_model[bigram_model[tokens]])"
   ]
  },
  {
   "cell_type": "markdown",
   "metadata": {},
   "source": [
    "#### Prepare objects for LDA gensim implementation"
   ]
  },
  {
   "cell_type": "code",
   "execution_count": 37,
   "metadata": {},
   "outputs": [],
   "source": [
    "from gensim import corpora"
   ]
  },
  {
   "cell_type": "code",
   "execution_count": 38,
   "metadata": {},
   "outputs": [],
   "source": [
    "dictionary_LDA = corpora.Dictionary(tokens)\n",
    "dictionary_LDA.filter_extremes(no_below=3)\n",
    "corpus = [dictionary_LDA.doc2bow(tok) for tok in tokens]"
   ]
  },
  {
   "cell_type": "markdown",
   "metadata": {},
   "source": [
    "## Running LDA"
   ]
  },
  {
   "cell_type": "code",
   "execution_count": 44,
   "metadata": {},
   "outputs": [],
   "source": [
    "from gensim import models\n",
    "import numpy as np"
   ]
  },
  {
   "cell_type": "code",
   "execution_count": 55,
   "metadata": {},
   "outputs": [
    {
     "name": "stdout",
     "output_type": "stream",
     "text": [
      "CPU times: user 8.54 s, sys: 14.2 ms, total: 8.55 s\n",
      "Wall time: 8.55 s\n"
     ]
    }
   ],
   "source": [
    "np.random.seed(123456)\n",
    "num_topics = 7\n",
    "%time lda_model = models.LdaModel(corpus, num_topics=num_topics, \\\n",
    "                                  id2word=dictionary_LDA, \\\n",
    "                                  passes=3, alpha=[0.08]*num_topics, \\\n",
    "                                  eta=[0.01]*len(dictionary_LDA.keys()))"
   ]
  },
  {
   "cell_type": "markdown",
   "metadata": {},
   "source": [
    "## Quick exploration of LDA results"
   ]
  },
  {
   "cell_type": "markdown",
   "metadata": {},
   "source": [
    "#### Looking at topics"
   ]
  },
  {
   "cell_type": "code",
   "execution_count": 56,
   "metadata": {
    "scrolled": false
   },
   "outputs": [
    {
     "name": "stdout",
     "output_type": "stream",
     "text": [
      "0: 0.188*\"долг\" + 0.158*\"перевод\" + 0.133*\"оплата\" + 0.096*\"проверка\" + 0.046*\"проба\" + 0.045*\"др\" + 0.032*\"рубль\" + 0.027*\"александр\" + 0.026*\"прислать\" + 0.020*\"владимир\" + 0.020*\"торт\" + 0.019*\"стрижка\" + 0.018*\"ир\" + 0.018*\"написать\" + 0.015*\"душа\" + 0.014*\"перевод_средство\" + 0.012*\"юбилей\" + 0.009*\"взять\" + 0.008*\"варение\" + 0.008*\"дух\"\n",
      "\n",
      "1: 0.579*\"привет\" + 0.058*\"обед\" + 0.038*\"карта\" + 0.030*\"возврат_долг\" + 0.026*\"пиво\" + 0.023*\"целовать\" + 0.022*\"свет\" + 0.019*\"пополнение_счёт\" + 0.017*\"вика\" + 0.015*\"пицца\" + 0.014*\"день\" + 0.011*\"плата\" + 0.011*\"отказывать\" + 0.008*\"человек\" + 0.008*\"сергеев\" + 0.007*\"ночь\" + 0.007*\"выздоравливать\" + 0.006*\"морожёнка\" + 0.006*\"процент\" + 0.005*\"март\"\n",
      "\n",
      "2: 0.118*\"перевести\" + 0.085*\"сентябрь\" + 0.084*\"хуй\" + 0.050*\"аванс\" + 0.045*\"должок\" + 0.036*\"брат\" + 0.035*\"сын\" + 0.035*\"гараж\" + 0.034*\"жена\" + 0.031*\"поздравлять\" + 0.030*\"ребёнок\" + 0.029*\"виктор\" + 0.029*\"праздник\" + 0.029*\"страховка\" + 0.019*\"вернуть\" + 0.017*\"благодарить\" + 0.016*\"сад\" + 0.015*\"женить\" + 0.015*\"забыть\" + 0.014*\"простить\"\n",
      "\n",
      "3: 0.290*\"любить\" + 0.088*\"тест\" + 0.055*\"максим\" + 0.037*\"день_рождение\" + 0.037*\"возвращать\" + 0.035*\"любовь\" + 0.029*\"виктория\" + 0.029*\"днюха\" + 0.024*\"лекарство\" + 0.022*\"остаток\" + 0.019*\"муж\" + 0.019*\"продукт\" + 0.018*\"приветик\" + 0.018*\"метр\" + 0.017*\"нужда\" + 0.015*\"банк\" + 0.015*\"принять\" + 0.015*\"зайка\" + 0.014*\"ролл\" + 0.012*\"радость\"\n",
      "\n",
      "4: 0.111*\"такси\" + 0.103*\"деньга\" + 0.088*\"получить\" + 0.078*\"папа\" + 0.068*\"квартира\" + 0.031*\"счёт\" + 0.028*\"помощь\" + 0.027*\"проверка_связь\" + 0.026*\"ремонт\" + 0.024*\"сергей\" + 0.021*\"август\" + 0.020*\"платёж\" + 0.017*\"питание\" + 0.017*\"дом\" + 0.017*\"рыба\" + 0.015*\"фото\" + 0.015*\"поездка\" + 0.015*\"выручить\" + 0.014*\"зарплата\" + 0.014*\"прийти\"\n",
      "\n",
      "5: 0.293*\"рождение\" + 0.107*\"мама\" + 0.083*\"подарок\" + 0.060*\"предоплата\" + 0.040*\"кофе\" + 0.035*\"еда\" + 0.029*\"купить\" + 0.025*\"отправить\" + 0.022*\"чаять\" + 0.020*\"сбер\" + 0.019*\"спс\" + 0.018*\"шаурм\" + 0.018*\"денежка\" + 0.017*\"отписаться\" + 0.016*\"костюм\" + 0.015*\"получиться\" + 0.013*\"сосать\" + 0.012*\"расход\" + 0.011*\"свадьба\" + 0.011*\"дочка\"\n",
      "\n",
      "6: 0.215*\"ловить\" + 0.083*\"кредит\" + 0.078*\"держать\" + 0.056*\"билет\" + 0.040*\"доставка\" + 0.038*\"год\" + 0.032*\"заказ\" + 0.030*\"неделя\" + 0.029*\"букет\" + 0.026*\"покупка\" + 0.025*\"ипотека\" + 0.022*\"аренда\" + 0.021*\"суши\" + 0.020*\"возврат\" + 0.019*\"проверять\" + 0.018*\"услуга\" + 0.017*\"интернет\" + 0.012*\"договор\" + 0.011*\"ужин\" + 0.009*\"принять_соболезнование\"\n",
      "\n"
     ]
    }
   ],
   "source": [
    "for i,topic in lda_model.show_topics(formatted=True, num_topics=num_topics, num_words=20):\n",
    "    print(str(i)+\": \"+ topic)\n",
    "    print()"
   ]
  },
  {
   "cell_type": "markdown",
   "metadata": {},
   "source": [
    "#### Allocating topics to documents"
   ]
  },
  {
   "cell_type": "code",
   "execution_count": 57,
   "metadata": {},
   "outputs": [],
   "source": [
    "#print(data.articles.loc[0][:500])"
   ]
  },
  {
   "cell_type": "code",
   "execution_count": 58,
   "metadata": {
    "scrolled": false
   },
   "outputs": [
    {
     "data": {
      "text/plain": [
       "[(0, 0.14285713),\n",
       " (1, 0.14285713),\n",
       " (2, 0.14285713),\n",
       " (3, 0.14285713),\n",
       " (4, 0.14285713),\n",
       " (5, 0.14285713),\n",
       " (6, 0.14285713)]"
      ]
     },
     "execution_count": 58,
     "metadata": {},
     "output_type": "execute_result"
    }
   ],
   "source": [
    "lda_model[corpus[0]]"
   ]
  },
  {
   "cell_type": "markdown",
   "metadata": {},
   "source": [
    "#### Predicting topics on unseen documents"
   ]
  },
  {
   "cell_type": "code",
   "execution_count": 59,
   "metadata": {},
   "outputs": [
    {
     "data": {
      "text/html": [
       "<div>\n",
       "<style scoped>\n",
       "    .dataframe tbody tr th:only-of-type {\n",
       "        vertical-align: middle;\n",
       "    }\n",
       "\n",
       "    .dataframe tbody tr th {\n",
       "        vertical-align: top;\n",
       "    }\n",
       "\n",
       "    .dataframe thead th {\n",
       "        text-align: right;\n",
       "    }\n",
       "</style>\n",
       "<table border=\"1\" class=\"dataframe\">\n",
       "  <thead>\n",
       "    <tr style=\"text-align: right;\">\n",
       "      <th></th>\n",
       "      <th>topic #</th>\n",
       "      <th>weight</th>\n",
       "      <th>words in topic</th>\n",
       "    </tr>\n",
       "  </thead>\n",
       "  <tbody>\n",
       "    <tr>\n",
       "      <th>0</th>\n",
       "      <td>0</td>\n",
       "      <td>0.14</td>\n",
       "      <td>0.188*\"долг\" + 0.158*\"перевод\" + 0.133*\"оплата...</td>\n",
       "    </tr>\n",
       "    <tr>\n",
       "      <th>1</th>\n",
       "      <td>1</td>\n",
       "      <td>0.14</td>\n",
       "      <td>0.579*\"привет\" + 0.058*\"обед\" + 0.038*\"карта\" ...</td>\n",
       "    </tr>\n",
       "    <tr>\n",
       "      <th>2</th>\n",
       "      <td>2</td>\n",
       "      <td>0.14</td>\n",
       "      <td>0.118*\"перевести\" + 0.085*\"сентябрь\" + 0.084*\"...</td>\n",
       "    </tr>\n",
       "    <tr>\n",
       "      <th>3</th>\n",
       "      <td>3</td>\n",
       "      <td>0.14</td>\n",
       "      <td>0.290*\"любить\" + 0.088*\"тест\" + 0.055*\"максим\"...</td>\n",
       "    </tr>\n",
       "    <tr>\n",
       "      <th>4</th>\n",
       "      <td>4</td>\n",
       "      <td>0.14</td>\n",
       "      <td>0.111*\"такси\" + 0.103*\"деньга\" + 0.088*\"получи...</td>\n",
       "    </tr>\n",
       "    <tr>\n",
       "      <th>5</th>\n",
       "      <td>5</td>\n",
       "      <td>0.14</td>\n",
       "      <td>0.293*\"рождение\" + 0.107*\"мама\" + 0.083*\"подар...</td>\n",
       "    </tr>\n",
       "    <tr>\n",
       "      <th>6</th>\n",
       "      <td>6</td>\n",
       "      <td>0.14</td>\n",
       "      <td>0.215*\"ловить\" + 0.083*\"кредит\" + 0.078*\"держа...</td>\n",
       "    </tr>\n",
       "  </tbody>\n",
       "</table>\n",
       "</div>"
      ],
      "text/plain": [
       "   topic #  weight                                     words in topic\n",
       "0        0    0.14  0.188*\"долг\" + 0.158*\"перевод\" + 0.133*\"оплата...\n",
       "1        1    0.14  0.579*\"привет\" + 0.058*\"обед\" + 0.038*\"карта\" ...\n",
       "2        2    0.14  0.118*\"перевести\" + 0.085*\"сентябрь\" + 0.084*\"...\n",
       "3        3    0.14  0.290*\"любить\" + 0.088*\"тест\" + 0.055*\"максим\"...\n",
       "4        4    0.14  0.111*\"такси\" + 0.103*\"деньга\" + 0.088*\"получи...\n",
       "5        5    0.14  0.293*\"рождение\" + 0.107*\"мама\" + 0.083*\"подар...\n",
       "6        6    0.14  0.215*\"ловить\" + 0.083*\"кредит\" + 0.078*\"держа..."
      ]
     },
     "execution_count": 59,
     "metadata": {},
     "output_type": "execute_result"
    }
   ],
   "source": [
    "document = '''Eric Tucker, a 35-year-old co-founder of a marketing company in Austin, Tex., had just about 40 Twitter followers. But his recent tweet about paid protesters being bused to demonstrations against President-elect Donald J. Trump fueled a nationwide conspiracy theory — one that Mr. Trump joined in promoting. \n",
    "\n",
    "Mr. Tucker's post was shared at least 16,000 times on Twitter and more than 350,000 times on Facebook. The problem is that Mr. Tucker got it wrong. There were no such buses packed with paid protesters.\n",
    "\n",
    "But that didn't matter.\n",
    "\n",
    "While some fake news is produced purposefully by teenagers in the Balkans or entrepreneurs in the United States seeking to make money from advertising, false information can also arise from misinformed social media posts by regular people that are seized on and spread through a hyperpartisan blogosphere.\n",
    "\n",
    "Here, The New York Times deconstructs how Mr. Tucker’s now-deleted declaration on Twitter the night after the election turned into a fake-news phenomenon. It is an example of how, in an ever-connected world where speed often takes precedence over truth, an observation by a private citizen can quickly become a talking point, even as it is being proved false.'''\n",
    "tokens = word_tokenize(document)\n",
    "topics = lda_model.show_topics(formatted=True, num_topics=num_topics, num_words=20)\n",
    "pd.DataFrame([(el[0], round(el[1],2), topics[el[0]][1]) for el in lda_model[dictionary_LDA.doc2bow(tokens)]], columns=['topic #', 'weight', 'words in topic'])"
   ]
  },
  {
   "cell_type": "markdown",
   "metadata": {},
   "source": [
    "## Advanced exploration of LDA results"
   ]
  },
  {
   "cell_type": "code",
   "execution_count": 72,
   "metadata": {},
   "outputs": [],
   "source": [
    "pyLDAvis.save_html(vis, 'lda.html')"
   ]
  },
  {
   "cell_type": "code",
   "execution_count": 61,
   "metadata": {
    "scrolled": false
   },
   "outputs": [
    {
     "name": "stderr",
     "output_type": "stream",
     "text": [
      "/anaconda3/lib/python3.7/site-packages/pyLDAvis/_prepare.py:257: FutureWarning: Sorting because non-concatenation axis is not aligned. A future version\n",
      "of pandas will change to not sort by default.\n",
      "\n",
      "To accept the future behavior, pass 'sort=False'.\n",
      "\n",
      "To retain the current behavior and silence the warning, pass 'sort=True'.\n",
      "\n",
      "  return pd.concat([default_term_info] + list(topic_dfs))\n"
     ]
    },
    {
     "data": {
      "text/html": [
       "\n",
       "<link rel=\"stylesheet\" type=\"text/css\" href=\"https://cdn.rawgit.com/bmabey/pyLDAvis/files/ldavis.v1.0.0.css\">\n",
       "\n",
       "\n",
       "<div id=\"ldavis_el23811124800708962431870123\"></div>\n",
       "<script type=\"text/javascript\">\n",
       "\n",
       "var ldavis_el23811124800708962431870123_data = {\"mdsDat\": {\"x\": [-0.443873458006615, 0.14259398844194593, 0.06600008083755304, 0.0710229466039568, 0.05478354457791959, 0.055115164492699015, 0.05435773305254132], \"y\": [-0.067703378889323, -0.4240092858024567, 0.11038283440952153, 0.13796987695277885, 0.08132739642087086, 0.08187351358488258, 0.08015904332372509], \"topics\": [1, 2, 3, 4, 5, 6, 7], \"cluster\": [1, 1, 1, 1, 1, 1, 1], \"Freq\": [17.329336166381836, 15.456962585449219, 14.837831497192383, 14.477461814880371, 12.816001892089844, 12.794449806213379, 12.28795337677002]}, \"tinfo\": {\"Category\": [\"Default\", \"Default\", \"Default\", \"Default\", \"Default\", \"Default\", \"Default\", \"Default\", \"Default\", \"Default\", \"Default\", \"Default\", \"Default\", \"Default\", \"Default\", \"Default\", \"Default\", \"Default\", \"Default\", \"Default\", \"Default\", \"Default\", \"Default\", \"Default\", \"Default\", \"Default\", \"Default\", \"Default\", \"Default\", \"Default\", \"Topic1\", \"Topic1\", \"Topic1\", \"Topic1\", \"Topic1\", \"Topic1\", \"Topic1\", \"Topic1\", \"Topic1\", \"Topic1\", \"Topic1\", \"Topic1\", \"Topic1\", \"Topic1\", \"Topic1\", \"Topic1\", \"Topic1\", \"Topic1\", \"Topic1\", \"Topic1\", \"Topic1\", \"Topic1\", \"Topic1\", \"Topic1\", \"Topic1\", \"Topic1\", \"Topic1\", \"Topic1\", \"Topic1\", \"Topic1\", \"Topic2\", \"Topic2\", \"Topic2\", \"Topic2\", \"Topic2\", \"Topic2\", \"Topic2\", \"Topic2\", \"Topic2\", \"Topic2\", \"Topic2\", \"Topic2\", \"Topic2\", \"Topic2\", \"Topic2\", \"Topic2\", \"Topic2\", \"Topic2\", \"Topic2\", \"Topic2\", \"Topic2\", \"Topic2\", \"Topic2\", \"Topic2\", \"Topic2\", \"Topic2\", \"Topic2\", \"Topic2\", \"Topic2\", \"Topic2\", \"Topic3\", \"Topic3\", \"Topic3\", \"Topic3\", \"Topic3\", \"Topic3\", \"Topic3\", \"Topic3\", \"Topic3\", \"Topic3\", \"Topic3\", \"Topic3\", \"Topic3\", \"Topic3\", \"Topic3\", \"Topic3\", \"Topic3\", \"Topic3\", \"Topic3\", \"Topic3\", \"Topic3\", \"Topic3\", \"Topic3\", \"Topic3\", \"Topic3\", \"Topic3\", \"Topic3\", \"Topic3\", \"Topic3\", \"Topic3\", \"Topic4\", \"Topic4\", \"Topic4\", \"Topic4\", \"Topic4\", \"Topic4\", \"Topic4\", \"Topic4\", \"Topic4\", \"Topic4\", \"Topic4\", \"Topic4\", \"Topic4\", \"Topic4\", \"Topic4\", \"Topic4\", \"Topic4\", \"Topic4\", \"Topic4\", \"Topic4\", \"Topic4\", \"Topic4\", \"Topic4\", \"Topic4\", \"Topic4\", \"Topic4\", \"Topic4\", \"Topic4\", \"Topic4\", \"Topic4\", \"Topic5\", \"Topic5\", \"Topic5\", \"Topic5\", \"Topic5\", \"Topic5\", \"Topic5\", \"Topic5\", \"Topic5\", \"Topic5\", \"Topic5\", \"Topic5\", \"Topic5\", \"Topic5\", \"Topic5\", \"Topic5\", \"Topic5\", \"Topic5\", \"Topic5\", \"Topic5\", \"Topic5\", \"Topic5\", \"Topic5\", \"Topic5\", \"Topic5\", \"Topic5\", \"Topic5\", \"Topic5\", \"Topic5\", \"Topic5\", \"Topic6\", \"Topic6\", \"Topic6\", \"Topic6\", \"Topic6\", \"Topic6\", \"Topic6\", \"Topic6\", \"Topic6\", \"Topic6\", \"Topic6\", \"Topic6\", \"Topic6\", \"Topic6\", \"Topic6\", \"Topic6\", \"Topic6\", \"Topic6\", \"Topic6\", \"Topic6\", \"Topic6\", \"Topic6\", \"Topic6\", \"Topic6\", \"Topic6\", \"Topic6\", \"Topic6\", \"Topic6\", \"Topic6\", \"Topic6\", \"Topic7\", \"Topic7\", \"Topic7\", \"Topic7\", \"Topic7\", \"Topic7\", \"Topic7\", \"Topic7\", \"Topic7\", \"Topic7\", \"Topic7\", \"Topic7\", \"Topic7\", \"Topic7\", \"Topic7\", \"Topic7\", \"Topic7\", \"Topic7\", \"Topic7\", \"Topic7\", \"Topic7\", \"Topic7\", \"Topic7\", \"Topic7\", \"Topic7\", \"Topic7\", \"Topic7\", \"Topic7\", \"Topic7\", \"Topic7\"], \"Freq\": [2007.0, 952.0, 835.0, 732.0, 618.0, 616.0, 518.0, 368.0, 325.0, 348.0, 373.0, 342.0, 293.0, 252.0, 268.0, 258.0, 234.0, 237.0, 231.0, 222.0, 226.0, 202.0, 193.0, 160.0, 159.0, 177.0, 175.0, 139.0, 124.0, 130.0, 732.2348022460938, 616.080810546875, 518.7886962890625, 373.72381591796875, 177.4295196533203, 175.29547119140625, 123.36699676513672, 105.24441528320312, 101.83830261230469, 76.12334442138672, 76.06832885742188, 74.40414428710938, 68.849365234375, 68.61308288574219, 57.477638244628906, 54.26737594604492, 47.08918380737305, 36.77461242675781, 30.98671531677246, 29.896465301513672, 29.544464111328125, 25.447811126708984, 22.52665138244629, 20.446866989135742, 19.990964889526367, 18.931135177612305, 16.0678768157959, 14.848484992980957, 14.342180252075195, 12.9153470993042, 2007.1605224609375, 201.9951629638672, 132.5851593017578, 104.7253189086914, 88.49932098388672, 81.1520767211914, 74.99750518798828, 66.82381439208984, 58.516292572021484, 50.58455276489258, 49.459903717041016, 38.96023941040039, 37.59741973876953, 28.763948440551758, 27.55345344543457, 23.626062393188477, 23.236221313476562, 19.741458892822266, 19.530460357666016, 17.900094985961914, 17.164663314819336, 16.458070755004883, 15.741819381713867, 15.414318084716797, 14.702890396118164, 13.551742553710938, 13.407084465026855, 12.81200885772705, 12.738773345947266, 12.27879810333252, 368.45556640625, 342.57586669921875, 293.3419189453125, 258.7995910644531, 226.83766174316406, 102.88079833984375, 91.71497344970703, 91.16899871826172, 87.2772216796875, 80.77471923828125, 69.13513946533203, 65.1663589477539, 57.88352584838867, 57.08995056152344, 54.95276641845703, 50.822288513183594, 50.0447883605957, 48.89080047607422, 48.2541389465332, 46.36129379272461, 46.519805908203125, 45.34946823120117, 36.017478942871094, 35.9018440246582, 33.473445892333984, 32.208553314208984, 29.969640731811523, 27.882139205932617, 26.57013511657715, 24.507888793945312, 952.2481079101562, 347.95843505859375, 268.0798034667969, 193.81309509277344, 130.8604278564453, 114.12908172607422, 94.83423614501953, 80.12452697753906, 71.78145599365234, 65.447021484375, 61.55112075805664, 57.285682678222656, 57.05073547363281, 55.29585647583008, 50.52937316894531, 49.2639045715332, 41.07541275024414, 37.97523498535156, 36.233123779296875, 35.92221450805664, 35.54700469970703, 31.954891204833984, 28.23650360107422, 26.78466796875, 25.823406219482422, 22.6356258392334, 21.60073471069336, 19.499176025390625, 17.18919563293457, 14.905003547668457, 835.5922241210938, 252.55796813964844, 159.14292907714844, 107.66464233398438, 105.25303649902344, 101.9440689086914, 83.6082763671875, 82.21271514892578, 68.40390014648438, 62.46934127807617, 53.70703887939453, 53.68924331665039, 51.309757232666016, 50.52288055419922, 48.42498016357422, 43.05462646484375, 42.9732780456543, 42.74839401245117, 39.42356872558594, 35.449363708496094, 32.39688491821289, 31.328983306884766, 31.034236907958984, 30.597957611083984, 30.550203323364258, 29.004201889038086, 22.69857406616211, 21.376089096069336, 21.15806770324707, 19.1059513092041, 617.9181518554688, 237.1175994873047, 222.66690063476562, 160.83474731445312, 113.8269271850586, 107.90735626220703, 91.7544174194336, 84.7821273803711, 82.31566619873047, 73.52458953857422, 72.27205657958984, 63.97611618041992, 61.43134689331055, 57.31306457519531, 53.5919303894043, 51.32815170288086, 48.43303298950195, 33.13163375854492, 30.520658493041992, 25.590700149536133, 25.506122589111328, 24.754804611206055, 23.87363052368164, 21.386470794677734, 20.863433837890625, 20.36489486694336, 19.85671615600586, 19.626712799072266, 19.598344802856445, 19.46613121032715, 325.3343811035156, 234.52207946777344, 231.78094482421875, 139.1575164794922, 123.98204803466797, 100.4273452758789, 96.89466094970703, 95.94246673583984, 93.55734252929688, 86.5146484375, 82.95590209960938, 81.16481018066406, 79.94844055175781, 79.1446762084961, 52.910621643066406, 47.387229919433594, 43.58357238769531, 42.721153259277344, 42.223655700683594, 39.75341033935547, 36.57315444946289, 32.84492492675781, 31.8926944732666, 31.563579559326172, 27.344846725463867, 27.017927169799805, 25.952028274536133, 25.317914962768555, 23.545738220214844, 23.443796157836914], \"Term\": [\"\\u043f\\u0440\\u0438\\u0432\\u0435\\u0442\", \"\\u0440\\u043e\\u0436\\u0434\\u0435\\u043d\\u0438\\u0435\", \"\\u043b\\u044e\\u0431\\u0438\\u0442\\u044c\", \"\\u0434\\u043e\\u043b\\u0433\", \"\\u043b\\u043e\\u0432\\u0438\\u0442\\u044c\", \"\\u043f\\u0435\\u0440\\u0435\\u0432\\u043e\\u0434\", \"\\u043e\\u043f\\u043b\\u0430\\u0442\\u0430\", \"\\u0442\\u0430\\u043a\\u0441\\u0438\", \"\\u043f\\u0435\\u0440\\u0435\\u0432\\u0435\\u0441\\u0442\\u0438\", \"\\u043c\\u0430\\u043c\\u0430\", \"\\u043f\\u0440\\u043e\\u0432\\u0435\\u0440\\u043a\\u0430\", \"\\u0434\\u0435\\u043d\\u044c\\u0433\\u0430\", \"\\u043f\\u043e\\u043b\\u0443\\u0447\\u0438\\u0442\\u044c\", \"\\u0442\\u0435\\u0441\\u0442\", \"\\u043f\\u043e\\u0434\\u0430\\u0440\\u043e\\u043a\", \"\\u043f\\u0430\\u043f\\u0430\", \"\\u0441\\u0435\\u043d\\u0442\\u044f\\u0431\\u0440\\u044c\", \"\\u043a\\u0440\\u0435\\u0434\\u0438\\u0442\", \"\\u0445\\u0443\\u0439\", \"\\u0434\\u0435\\u0440\\u0436\\u0430\\u0442\\u044c\", \"\\u043a\\u0432\\u0430\\u0440\\u0442\\u0438\\u0440\\u0430\", \"\\u043e\\u0431\\u0435\\u0434\", \"\\u043f\\u0440\\u0435\\u0434\\u043e\\u043f\\u043b\\u0430\\u0442\\u0430\", \"\\u0431\\u0438\\u043b\\u0435\\u0442\", \"\\u043c\\u0430\\u043a\\u0441\\u0438\\u043c\", \"\\u043f\\u0440\\u043e\\u0431\\u0430\", \"\\u0434\\u0440\", \"\\u0430\\u0432\\u0430\\u043d\\u0441\", \"\\u0434\\u043e\\u043b\\u0436\\u043e\\u043a\", \"\\u043a\\u043e\\u0444\\u0435\", \"\\u0434\\u043e\\u043b\\u0433\", \"\\u043f\\u0435\\u0440\\u0435\\u0432\\u043e\\u0434\", \"\\u043e\\u043f\\u043b\\u0430\\u0442\\u0430\", \"\\u043f\\u0440\\u043e\\u0432\\u0435\\u0440\\u043a\\u0430\", \"\\u043f\\u0440\\u043e\\u0431\\u0430\", \"\\u0434\\u0440\", \"\\u0440\\u0443\\u0431\\u043b\\u044c\", \"\\u0430\\u043b\\u0435\\u043a\\u0441\\u0430\\u043d\\u0434\\u0440\", \"\\u043f\\u0440\\u0438\\u0441\\u043b\\u0430\\u0442\\u044c\", \"\\u0432\\u043b\\u0430\\u0434\\u0438\\u043c\\u0438\\u0440\", \"\\u0442\\u043e\\u0440\\u0442\", \"\\u0441\\u0442\\u0440\\u0438\\u0436\\u043a\\u0430\", \"\\u0438\\u0440\", \"\\u043d\\u0430\\u043f\\u0438\\u0441\\u0430\\u0442\\u044c\", \"\\u0434\\u0443\\u0448\\u0430\", \"\\u043f\\u0435\\u0440\\u0435\\u0432\\u043e\\u0434_\\u0441\\u0440\\u0435\\u0434\\u0441\\u0442\\u0432\\u043e\", \"\\u044e\\u0431\\u0438\\u043b\\u0435\\u0439\", \"\\u0432\\u0437\\u044f\\u0442\\u044c\", \"\\u0432\\u0430\\u0440\\u0435\\u043d\\u0438\\u0435\", \"\\u0434\\u0443\\u0445\", \"\\u0431\\u0435\\u043d\\u0437\\u0438\\u043d\", \"\\u0434\\u0432\\u0435\\u0440\\u044c\", \"\\u0442\\u0440\\u0430\\u043d\\u0448\", \"\\u0437\\u0430\\u043d\\u044f\\u0442\\u0438\\u0435\", \"\\u0441\\u044b\\u043d\\u0443\\u043b\\u044c\", \"\\u0448\\u0442\\u043e\\u0440\\u0430\", \"\\u043f\\u0438\\u0437\\u0434\\u0430\", \"\\u0434\\u0438\\u043c\", \"\\u043e\\u0441\\u0430\\u0433\\u043e\", \"\\u043c\\u0438\\u0440\", \"\\u043f\\u0440\\u0438\\u0432\\u0435\\u0442\", \"\\u043e\\u0431\\u0435\\u0434\", \"\\u043a\\u0430\\u0440\\u0442\\u0430\", \"\\u0432\\u043e\\u0437\\u0432\\u0440\\u0430\\u0442_\\u0434\\u043e\\u043b\\u0433\", \"\\u043f\\u0438\\u0432\\u043e\", \"\\u0446\\u0435\\u043b\\u043e\\u0432\\u0430\\u0442\\u044c\", \"\\u0441\\u0432\\u0435\\u0442\", \"\\u043f\\u043e\\u043f\\u043e\\u043b\\u043d\\u0435\\u043d\\u0438\\u0435_\\u0441\\u0447\\u0451\\u0442\", \"\\u0432\\u0438\\u043a\\u0430\", \"\\u043f\\u0438\\u0446\\u0446\\u0430\", \"\\u0434\\u0435\\u043d\\u044c\", \"\\u043f\\u043b\\u0430\\u0442\\u0430\", \"\\u043e\\u0442\\u043a\\u0430\\u0437\\u044b\\u0432\\u0430\\u0442\\u044c\", \"\\u0447\\u0435\\u043b\\u043e\\u0432\\u0435\\u043a\", \"\\u0441\\u0435\\u0440\\u0433\\u0435\\u0435\\u0432\", \"\\u043d\\u043e\\u0447\\u044c\", \"\\u0432\\u044b\\u0437\\u0434\\u043e\\u0440\\u0430\\u0432\\u043b\\u0438\\u0432\\u0430\\u0442\\u044c\", \"\\u043c\\u043e\\u0440\\u043e\\u0436\\u0451\\u043d\\u043a\\u0430\", \"\\u043f\\u0440\\u043e\\u0446\\u0435\\u043d\\u0442\", \"\\u043c\\u0430\\u0440\\u0442\", \"\\u0437\\u0430\\u043b\\u043e\\u0433\", \"\\u043c\\u0430\\u0441\\u0441\\u0430\\u0436\", \"\\u0440\\u044e\\u043a\\u0437\\u0430\\u043a\", \"\\u0447\\u043c\\u043e\\u043a\\u0430\", \"\\u043f\\u0443\\u043f\\u0441\\u0438\\u043a\", \"\\u043c\\u0435\\u0431\\u0435\\u043b\\u044c\", \"\\u0440\\u0443\\u0441\\u0438\\u043a\", \"\\u0438\\u0433\\u0440\\u0430\", \"\\u043c\\u0430\\u0448\\u0438\\u043d\\u0430\", \"\\u0442\\u0430\\u0440\\u0430\\u0441\\u043e\\u0432\", \"\\u0442\\u0430\\u043a\\u0441\\u0438\", \"\\u0434\\u0435\\u043d\\u044c\\u0433\\u0430\", \"\\u043f\\u043e\\u043b\\u0443\\u0447\\u0438\\u0442\\u044c\", \"\\u043f\\u0430\\u043f\\u0430\", \"\\u043a\\u0432\\u0430\\u0440\\u0442\\u0438\\u0440\\u0430\", \"\\u0441\\u0447\\u0451\\u0442\", \"\\u043f\\u043e\\u043c\\u043e\\u0449\\u044c\", \"\\u043f\\u0440\\u043e\\u0432\\u0435\\u0440\\u043a\\u0430_\\u0441\\u0432\\u044f\\u0437\\u044c\", \"\\u0440\\u0435\\u043c\\u043e\\u043d\\u0442\", \"\\u0441\\u0435\\u0440\\u0433\\u0435\\u0439\", \"\\u0430\\u0432\\u0433\\u0443\\u0441\\u0442\", \"\\u043f\\u043b\\u0430\\u0442\\u0451\\u0436\", \"\\u043f\\u0438\\u0442\\u0430\\u043d\\u0438\\u0435\", \"\\u0434\\u043e\\u043c\", \"\\u0440\\u044b\\u0431\\u0430\", \"\\u0444\\u043e\\u0442\\u043e\", \"\\u043f\\u043e\\u0435\\u0437\\u0434\\u043a\\u0430\", \"\\u0432\\u044b\\u0440\\u0443\\u0447\\u0438\\u0442\\u044c\", \"\\u0437\\u0430\\u0440\\u043f\\u043b\\u0430\\u0442\\u0430\", \"\\u043a\\u043b\\u0430\\u0441\\u0441\", \"\\u043f\\u0440\\u0438\\u0439\\u0442\\u0438\", \"\\u0448\\u0430\\u0448\\u043b\\u044b\\u043a\", \"\\u0438\\u0437\\u0432\\u0438\\u043d\\u0438\\u0442\\u044c\", \"\\u0441\\u043e\\u043e\\u0431\\u0449\\u0438\\u0442\\u044c\", \"\\u0430\\u043d\\u0430\\u0442\\u043e\\u043b\\u0438\\u0439\", \"\\u043e\\u0442\\u0434\\u0430\\u0442\\u044c\", \"\\u043f\\u0440\\u043e\\u0441\\u0438\\u0442\\u044c\", \"\\u0447\\u0430\\u0441\\u0442\\u044c\", \"\\u0431\\u0430\\u0431\\u043d\\u0443\\u0442\\u044c\", \"\\u0434\\u043e\\u0447\\u044c\", \"\\u0440\\u043e\\u0436\\u0434\\u0435\\u043d\\u0438\\u0435\", \"\\u043c\\u0430\\u043c\\u0430\", \"\\u043f\\u043e\\u0434\\u0430\\u0440\\u043e\\u043a\", \"\\u043f\\u0440\\u0435\\u0434\\u043e\\u043f\\u043b\\u0430\\u0442\\u0430\", \"\\u043a\\u043e\\u0444\\u0435\", \"\\u0435\\u0434\\u0430\", \"\\u043a\\u0443\\u043f\\u0438\\u0442\\u044c\", \"\\u043e\\u0442\\u043f\\u0440\\u0430\\u0432\\u0438\\u0442\\u044c\", \"\\u0447\\u0430\\u044f\\u0442\\u044c\", \"\\u0441\\u0431\\u0435\\u0440\", \"\\u0441\\u043f\\u0441\", \"\\u0448\\u0430\\u0443\\u0440\\u043c\", \"\\u0434\\u0435\\u043d\\u0435\\u0436\\u043a\\u0430\", \"\\u043e\\u0442\\u043f\\u0438\\u0441\\u0430\\u0442\\u044c\\u0441\\u044f\", \"\\u043a\\u043e\\u0441\\u0442\\u044e\\u043c\", \"\\u043f\\u043e\\u043b\\u0443\\u0447\\u0438\\u0442\\u044c\\u0441\\u044f\", \"\\u0441\\u043e\\u0441\\u0430\\u0442\\u044c\", \"\\u0440\\u0430\\u0441\\u0445\\u043e\\u0434\", \"\\u0441\\u0432\\u0430\\u0434\\u044c\\u0431\\u0430\", \"\\u0434\\u043e\\u0447\\u043a\\u0430\", \"\\u043c\\u044f\\u0441\\u043e\", \"\\u0438\\u044e\\u043b\\u044c\", \"\\u0440\\u0430\\u0431\\u043e\\u0442\\u0430\", \"\\u0434\\u0435\\u0432\\u043e\\u0447\\u043a\\u0430\", \"\\u0431\\u0435\\u0440\\u0435\\u0447\\u044c\", \"\\u043f\\u043e\\u043b\\u043e\\u0432\\u0438\\u043d\\u0430\", \"\\u0431\\u0440\\u0430\\u0442\\u0438\\u0448\\u043a\\u0430\", \"\\u0441\\u044b\\u043d\\u043e\\u043a\", \"\\u043f\\u0435\\u0440\\u0435\\u0432\\u043e\\u0437\\u0438\\u0442\\u044c\", \"\\u043c\\u0430\\u043c\\u043e\\u0447\\u043a\\u0430\", \"\\u043b\\u044e\\u0431\\u0438\\u0442\\u044c\", \"\\u0442\\u0435\\u0441\\u0442\", \"\\u043c\\u0430\\u043a\\u0441\\u0438\\u043c\", \"\\u0434\\u0435\\u043d\\u044c_\\u0440\\u043e\\u0436\\u0434\\u0435\\u043d\\u0438\\u0435\", \"\\u0432\\u043e\\u0437\\u0432\\u0440\\u0430\\u0449\\u0430\\u0442\\u044c\", \"\\u043b\\u044e\\u0431\\u043e\\u0432\\u044c\", \"\\u0432\\u0438\\u043a\\u0442\\u043e\\u0440\\u0438\\u044f\", \"\\u0434\\u043d\\u044e\\u0445\\u0430\", \"\\u043b\\u0435\\u043a\\u0430\\u0440\\u0441\\u0442\\u0432\\u043e\", \"\\u043e\\u0441\\u0442\\u0430\\u0442\\u043e\\u043a\", \"\\u043c\\u0443\\u0436\", \"\\u043f\\u0440\\u043e\\u0434\\u0443\\u043a\\u0442\", \"\\u043f\\u0440\\u0438\\u0432\\u0435\\u0442\\u0438\\u043a\", \"\\u043c\\u0435\\u0442\\u0440\", \"\\u043d\\u0443\\u0436\\u0434\\u0430\", \"\\u0431\\u0430\\u043d\\u043a\", \"\\u043f\\u0440\\u0438\\u043d\\u044f\\u0442\\u044c\", \"\\u0437\\u0430\\u0439\\u043a\\u0430\", \"\\u0440\\u043e\\u043b\\u043b\", \"\\u0440\\u0430\\u0434\\u043e\\u0441\\u0442\\u044c\", \"\\u043a\\u0438\\u0441\\u0430\", \"\\u0434\\u0435\\u043b\\u043e\", \"\\u043d\\u0438\\u043a\\u043e\\u043b\\u0430\\u0435\\u0432\", \"\\u0431\\u0430\\u043d\\u043a\\u0435\\u0442\", \"\\u0434\\u043d\\u044e\\u0445\", \"\\u0442\\u043e\\u0440\\u0442\\u0438\\u043a\", \"\\u0441\\u043e\\u043a\\u043e\\u043b\\u043e\\u0432\", \"\\u043f\\u0438\\u0434\\u043e\\u0440\\u0430\", \"\\u043f\\u043e\\u043a\\u0443\\u0448\\u0430\\u0442\\u044c\", \"\\u0434\\u043e\\u0439\\u0442\\u0438\", \"\\u043b\\u043e\\u0432\\u0438\\u0442\\u044c\", \"\\u043a\\u0440\\u0435\\u0434\\u0438\\u0442\", \"\\u0434\\u0435\\u0440\\u0436\\u0430\\u0442\\u044c\", \"\\u0431\\u0438\\u043b\\u0435\\u0442\", \"\\u0434\\u043e\\u0441\\u0442\\u0430\\u0432\\u043a\\u0430\", \"\\u0433\\u043e\\u0434\", \"\\u0437\\u0430\\u043a\\u0430\\u0437\", \"\\u043d\\u0435\\u0434\\u0435\\u043b\\u044f\", \"\\u0431\\u0443\\u043a\\u0435\\u0442\", \"\\u043f\\u043e\\u043a\\u0443\\u043f\\u043a\\u0430\", \"\\u0438\\u043f\\u043e\\u0442\\u0435\\u043a\\u0430\", \"\\u0430\\u0440\\u0435\\u043d\\u0434\\u0430\", \"\\u0441\\u0443\\u0448\\u0438\", \"\\u0432\\u043e\\u0437\\u0432\\u0440\\u0430\\u0442\", \"\\u043f\\u0440\\u043e\\u0432\\u0435\\u0440\\u044f\\u0442\\u044c\", \"\\u0443\\u0441\\u043b\\u0443\\u0433\\u0430\", \"\\u0438\\u043d\\u0442\\u0435\\u0440\\u043d\\u0435\\u0442\", \"\\u0434\\u043e\\u0433\\u043e\\u0432\\u043e\\u0440\", \"\\u0443\\u0436\\u0438\\u043d\", \"\\u043f\\u0440\\u0438\\u043d\\u044f\\u0442\\u044c_\\u0441\\u043e\\u0431\\u043e\\u043b\\u0435\\u0437\\u043d\\u043e\\u0432\\u0430\\u043d\\u0438\\u0435\", \"\\u0441\\u0435\\u0441\\u0442\\u0440\\u0430\", \"\\u0432\\u043e\\u043b\\u043a\\u043e\\u0432\", \"\\u043f\\u043e\\u043f\\u043e\\u043b\\u043d\\u0435\\u043d\\u0438\\u0435\", \"\\u0441\\u0443\\u043c\\u043a\\u0430\", \"\\u0431\\u0430\\u043d\\u044f\", \"\\u043e\\u0431\\u0449\\u0430\\u0433\\u0430\", \"\\u043a\\u043b\\u044e\\u0447\", \"\\u0434\\u043e\\u0431\\u0430\\u0432\\u0438\\u0442\\u044c\", \"\\u0438\\u043a\\u0440\\u0430\", \"\\u0441\\u0434\\u0430\\u0447\\u0430\", \"\\u043f\\u0435\\u0440\\u0435\\u0432\\u0435\\u0441\\u0442\\u0438\", \"\\u0441\\u0435\\u043d\\u0442\\u044f\\u0431\\u0440\\u044c\", \"\\u0445\\u0443\\u0439\", \"\\u0430\\u0432\\u0430\\u043d\\u0441\", \"\\u0434\\u043e\\u043b\\u0436\\u043e\\u043a\", \"\\u0431\\u0440\\u0430\\u0442\", \"\\u0441\\u044b\\u043d\", \"\\u0433\\u0430\\u0440\\u0430\\u0436\", \"\\u0436\\u0435\\u043d\\u0430\", \"\\u043f\\u043e\\u0437\\u0434\\u0440\\u0430\\u0432\\u043b\\u044f\\u0442\\u044c\", \"\\u0440\\u0435\\u0431\\u0451\\u043d\\u043e\\u043a\", \"\\u0432\\u0438\\u043a\\u0442\\u043e\\u0440\", \"\\u043f\\u0440\\u0430\\u0437\\u0434\\u043d\\u0438\\u043a\", \"\\u0441\\u0442\\u0440\\u0430\\u0445\\u043e\\u0432\\u043a\\u0430\", \"\\u0432\\u0435\\u0440\\u043d\\u0443\\u0442\\u044c\", \"\\u0431\\u043b\\u0430\\u0433\\u043e\\u0434\\u0430\\u0440\\u0438\\u0442\\u044c\", \"\\u0441\\u0430\\u0434\", \"\\u0436\\u0435\\u043d\\u0438\\u0442\\u044c\", \"\\u0437\\u0430\\u0431\\u044b\\u0442\\u044c\", \"\\u043f\\u0440\\u043e\\u0441\\u0442\\u0438\\u0442\\u044c\", \"\\u0443\\u0447\\u0451\\u0431\\u0430\", \"\\u0434\\u0440\\u0443\\u0433\", \"\\u043a\\u0430\\u0442\", \"\\u0443\\u0447\\u0435\\u0431\\u043d\\u0438\\u043a\", \"\\u043b\\u0435\\u0431\\u0435\\u0434\\u0435\\u0432\", \"\\u043c\\u0430\\u043c\\u0443\\u043b\\u044f\", \"\\u0434\\u0438\\u0441\\u043a\", \"\\u0441\\u043a\\u0430\\u0437\\u0430\\u0442\\u044c\", \"\\u0431\\u0430\\u0431\\u0443\\u0448\\u043a\\u0430\", \"\\u043b\\u0435\\u043d\\u0430\"], \"Total\": [2007.0, 952.0, 835.0, 732.0, 618.0, 616.0, 518.0, 368.0, 325.0, 348.0, 373.0, 342.0, 293.0, 252.0, 268.0, 258.0, 234.0, 237.0, 231.0, 222.0, 226.0, 202.0, 193.0, 160.0, 159.0, 177.0, 175.0, 139.0, 124.0, 130.0, 732.3411254882812, 616.1875, 518.8952026367188, 373.8301086425781, 177.5358428955078, 175.40184020996094, 123.47331237792969, 105.3507080078125, 101.94459533691406, 76.2296371459961, 76.17462921142578, 74.51044464111328, 68.9556655883789, 68.71942138671875, 57.583927154541016, 54.37366485595703, 47.19547653198242, 36.88090133666992, 31.093008041381836, 30.002758026123047, 29.6507568359375, 25.55410385131836, 22.632944107055664, 20.553163528442383, 20.097257614135742, 19.03742790222168, 16.174169540405273, 14.954778671264648, 14.448473930358887, 13.02164077758789, 2007.267822265625, 202.1023712158203, 132.6983642578125, 104.83250427246094, 88.60650634765625, 81.25926208496094, 75.10469055175781, 66.93099975585938, 58.62348937988281, 50.69173049926758, 49.567108154296875, 39.06741714477539, 37.7046012878418, 28.871129989624023, 27.660633087158203, 23.73324203491211, 23.343400955200195, 19.8486385345459, 19.63763999938965, 18.007274627685547, 17.27184295654297, 16.565250396728516, 15.848999977111816, 15.521498680114746, 14.810070991516113, 13.658923149108887, 13.514265060424805, 12.919189453125, 12.845953941345215, 12.385978698730469, 368.55950927734375, 342.679931640625, 293.4459228515625, 258.9035339355469, 226.9416046142578, 102.98473358154297, 91.81890869140625, 91.27293395996094, 87.38115692138672, 80.87865447998047, 69.23907470703125, 65.27030181884766, 57.98745346069336, 57.19388198852539, 55.05669403076172, 50.92621612548828, 50.14872360229492, 48.99473571777344, 48.358070373535156, 46.4652214050293, 46.62442398071289, 45.45339584350586, 36.12140655517578, 36.00577163696289, 33.57737350463867, 32.31248092651367, 30.073577880859375, 27.9860782623291, 26.6740665435791, 24.611820220947266, 952.3532104492188, 348.0635070800781, 268.1849060058594, 193.91818237304688, 130.9654998779297, 114.23414611816406, 94.9393081665039, 80.2295913696289, 71.88652038574219, 65.55208587646484, 61.65618133544922, 57.390743255615234, 57.15579605102539, 55.400917053222656, 50.63443374633789, 49.36896514892578, 41.18047332763672, 38.08029556274414, 36.33818817138672, 36.02727508544922, 35.65207290649414, 32.05995178222656, 28.341564178466797, 26.889728546142578, 25.928464889526367, 22.740686416625977, 21.705793380737305, 19.60423469543457, 17.29425811767578, 15.010063171386719, 835.69384765625, 252.6596221923828, 159.2445831298828, 107.76629638671875, 105.35469055175781, 102.04571533203125, 83.70992279052734, 82.31436157226562, 68.50554656982422, 62.570987701416016, 53.80868911743164, 53.79088592529297, 51.411399841308594, 50.6245231628418, 48.5266227722168, 43.15626907348633, 43.074928283691406, 42.85003662109375, 39.52521514892578, 35.55101013183594, 32.49852752685547, 31.43062973022461, 31.135879516601562, 30.699600219726562, 30.65184783935547, 29.105844497680664, 22.80021858215332, 21.477731704711914, 21.25971031188965, 19.20759391784668, 618.0203247070312, 237.21971130371094, 222.76901245117188, 160.93685913085938, 113.92904663085938, 108.00953674316406, 91.85663604736328, 84.88423919677734, 82.41777801513672, 73.626708984375, 72.3741683959961, 64.07823181152344, 61.5334587097168, 57.41518020629883, 53.69404220581055, 51.43026351928711, 48.53514099121094, 33.233741760253906, 30.622766494750977, 25.692808151245117, 25.608238220214844, 24.85691261291504, 23.975738525390625, 21.48858070373535, 20.96554183959961, 20.467002868652344, 19.958824157714844, 19.72882080078125, 19.700454711914062, 19.568239212036133, 325.4366760253906, 234.62432861328125, 231.88319396972656, 139.259765625, 124.08430480957031, 100.52959442138672, 96.99691009521484, 96.04472351074219, 93.65959167480469, 86.61703491210938, 83.05816650390625, 81.26705932617188, 80.05068969726562, 79.24693298339844, 53.01287078857422, 47.489479064941406, 43.685821533203125, 42.823402404785156, 42.32590866088867, 39.85565948486328, 36.6754035949707, 32.947174072265625, 31.994945526123047, 31.665828704833984, 27.44709587097168, 27.120176315307617, 26.054277420043945, 25.420164108276367, 23.647993087768555, 23.546058654785156], \"loglift\": [30.0, 29.0, 28.0, 27.0, 26.0, 25.0, 24.0, 23.0, 22.0, 21.0, 20.0, 19.0, 18.0, 17.0, 16.0, 15.0, 14.0, 13.0, 12.0, 11.0, 10.0, 9.0, 8.0, 7.0, 6.0, 5.0, 4.0, 3.0, 2.0, 1.0, 1.7525999546051025, 1.7525999546051025, 1.7525999546051025, 1.752500057220459, 1.7522000074386597, 1.7522000074386597, 1.7518999576568604, 1.7517999410629272, 1.7517000436782837, 1.7513999938964844, 1.7513999938964844, 1.7512999773025513, 1.7511999607086182, 1.7511999607086182, 1.7509000301361084, 1.7508000135421753, 1.750499963760376, 1.749899983406067, 1.7493000030517578, 1.7491999864578247, 1.7491999864578247, 1.7486000061035156, 1.7481000423431396, 1.7475999593734741, 1.747499942779541, 1.7472000122070312, 1.7461999654769897, 1.7455999851226807, 1.7453999519348145, 1.7446000576019287, 1.8671000003814697, 1.8666000366210938, 1.8662999868392944, 1.8660999536514282, 1.8659000396728516, 1.8658000230789185, 1.8657000064849854, 1.8654999732971191, 1.8653000593185425, 1.8650000095367432, 1.86489999294281, 1.864400029182434, 1.864300012588501, 1.8633999824523926, 1.8631999492645264, 1.8625999689102173, 1.8624999523162842, 1.8617000579833984, 1.8616000413894653, 1.8610999584197998, 1.8609000444412231, 1.8605999946594238, 1.8602999448776245, 1.860200047492981, 1.8597999811172485, 1.8592000007629395, 1.8590999841690063, 1.8588000535964966, 1.8587000370025635, 1.8583999872207642, 1.9076999425888062, 1.9076999425888062, 1.9076000452041626, 1.9076000452041626, 1.9075000286102295, 1.906999945640564, 1.9069000482559204, 1.9069000482559204, 1.9068000316619873, 1.9067000150680542, 1.906499981880188, 1.9063999652862549, 1.9062000513076782, 1.9062000513076782, 1.9061000347137451, 1.905900001525879, 1.905900001525879, 1.905900001525879, 1.9057999849319458, 1.9057999849319458, 1.9056999683380127, 1.9056999683380127, 1.9050999879837036, 1.9050999879837036, 1.9048999547958374, 1.9048000574111938, 1.9045000076293945, 1.9042999744415283, 1.904099941253662, 1.9038000106811523, 1.9325000047683716, 1.9322999715805054, 1.9321999549865723, 1.9320000410079956, 1.9318000078201294, 1.9316999912261963, 1.93149995803833, 1.9313000440597534, 1.9311000108718872, 1.930999994277954, 1.930899977684021, 1.9306999444961548, 1.9306999444961548, 1.9306999444961548, 1.9305000305175781, 1.930400013923645, 1.9299999475479126, 1.929800033569336, 1.9297000169754028, 1.9297000169754028, 1.9296000003814697, 1.9292999505996704, 1.9289000034332275, 1.9286999702453613, 1.9285000562667847, 1.927899956703186, 1.9277000427246094, 1.9271999597549438, 1.9264999628067017, 1.9256000518798828, 2.0543999671936035, 2.0541000366210938, 2.053800106048584, 2.053499937057495, 2.053499937057495, 2.053499937057495, 2.053299903869629, 2.0532000064849854, 2.052999973297119, 2.052799940109253, 2.0525999069213867, 2.0525999069213867, 2.052500009536743, 2.052500009536743, 2.0524001121520996, 2.0520999431610107, 2.0520999431610107, 2.0520999431610107, 2.0518999099731445, 2.0515999794006348, 2.051300048828125, 2.0511999130249023, 2.0511999130249023, 2.0511999130249023, 2.0511999130249023, 2.0510001182556152, 2.049999952316284, 2.0497000217437744, 2.0497000217437744, 2.0492000579833984, 2.055999994277954, 2.0557000637054443, 2.0557000637054443, 2.055500030517578, 2.055299997329712, 2.0552000999450684, 2.055000066757202, 2.055000066757202, 2.0548999309539795, 2.054800033569336, 2.0546998977661133, 2.0546000003814697, 2.054500102996826, 2.0543999671936035, 2.05430006980896, 2.0541999340057373, 2.0541000366210938, 2.053100109100342, 2.052799940109253, 2.0522000789642334, 2.0522000789642334, 2.052000045776367, 2.0518999099731445, 2.0513999462127686, 2.051300048828125, 2.0511999130249023, 2.0510001182556152, 2.0510001182556152, 2.0510001182556152, 2.0508999824523926, 2.0961999893188477, 2.096100091934204, 2.096100091934204, 2.0957999229431152, 2.0957000255584717, 2.0954999923706055, 2.0954999923706055, 2.0954999923706055, 2.0954999923706055, 2.095400094985962, 2.0952999591827393, 2.0952999591827393, 2.0952999591827393, 2.0952999591827393, 2.094599962234497, 2.094399929046631, 2.0941998958587646, 2.0941998958587646, 2.094099998474121, 2.0940001010894775, 2.0938000679016113, 2.093400001525879, 2.0933001041412354, 2.0933001041412354, 2.0927999019622803, 2.0927999019622803, 2.092600107192993, 2.0924999713897705, 2.0922000408172607, 2.0922000408172607], \"logprob\": [30.0, 29.0, 28.0, 27.0, 26.0, 25.0, 24.0, 23.0, 22.0, 21.0, 20.0, 19.0, 18.0, 17.0, 16.0, 15.0, 14.0, 13.0, 12.0, 11.0, 10.0, 9.0, 8.0, 7.0, 6.0, 5.0, 4.0, 3.0, 2.0, 1.0, -1.6698999404907227, -1.8425999879837036, -2.0144999027252197, -2.3424999713897705, -3.0875000953674316, -3.099600076675415, -3.450900077819824, -3.6096999645233154, -3.6426000595092773, -3.9337000846862793, -3.9344000816345215, -3.9565000534057617, -4.03410005569458, -4.037499904632568, -4.214600086212158, -4.27209997177124, -4.414000034332275, -4.661200046539307, -4.832499980926514, -4.868299961090088, -4.880099773406982, -5.029399871826172, -5.151299953460693, -5.248199939727783, -5.270699977874756, -5.325200080871582, -5.489200115203857, -5.5680999755859375, -5.602799892425537, -5.707600116729736, -0.5472000241279602, -2.843400001525879, -3.2644999027252197, -3.5002999305725098, -3.6686999797821045, -3.7553999423980713, -3.834199905395508, -3.9495999813079834, -4.082399845123291, -4.228000164031982, -4.250500202178955, -4.489099979400635, -4.524700164794922, -4.792600154876709, -4.835599899291992, -4.989299774169922, -5.00600004196167, -5.169000148773193, -5.179699897766113, -5.266900062561035, -5.308800220489502, -5.350900173187256, -5.395400047302246, -5.416399955749512, -5.463600158691406, -5.545199871063232, -5.5559000968933105, -5.60129976272583, -5.60699987411499, -5.643799781799316, -2.2014999389648438, -2.2743000984191895, -2.429500102996826, -2.554800033569336, -2.6865999698638916, -3.4772000312805176, -3.592099905014038, -3.598099946975708, -3.641700029373169, -3.719099998474121, -3.8747000694274902, -3.9339001178741455, -4.0524001121521, -4.066199779510498, -4.104300022125244, -4.182499885559082, -4.19789981842041, -4.221199989318848, -4.234300136566162, -4.2743000984191895, -4.270899772644043, -4.29640007019043, -4.526800155639648, -4.53000020980835, -4.600100040435791, -4.638599872589111, -4.710599899291992, -4.782800197601318, -4.830999851226807, -4.911799907684326, -1.2273999452590942, -2.234100103378296, -2.4948999881744385, -2.8192999362945557, -3.212100028991699, -3.348900079727173, -3.53410005569458, -3.7026000022888184, -3.8125998973846436, -3.9049999713897705, -3.9663000106811523, -4.0381999015808105, -4.042300224304199, -4.073500156402588, -4.163700103759766, -4.189000129699707, -4.370800018310547, -4.4492998123168945, -4.496200084686279, -4.504899978637695, -4.515399932861328, -4.6219000816345215, -4.74560022354126, -4.798399925231934, -4.83489990234375, -4.966700077056885, -5.013500213623047, -5.115799903869629, -5.2418999671936035, -5.384500026702881, -1.236199975013733, -2.4326999187469482, -2.8945000171661377, -3.2853000164031982, -3.308000087738037, -3.339900016784668, -3.5381999015808105, -3.555000066757202, -3.7388999462127686, -3.8296000957489014, -3.980799913406372, -3.981100082397461, -4.026400089263916, -4.041900157928467, -4.0843000411987305, -4.2017998695373535, -4.203700065612793, -4.209000110626221, -4.289999961853027, -4.396200180053711, -4.486299991607666, -4.519800186157227, -4.529200077056885, -4.543399810791016, -4.544899940490723, -4.59689998626709, -4.8420000076293945, -4.9019999504089355, -4.912300109863281, -5.0142998695373535, -1.5362999439239502, -2.4941000938415527, -2.556999921798706, -2.8822999000549316, -3.2279999256134033, -3.281399965286255, -3.44350004196167, -3.522599935531616, -3.5520999431610107, -3.6649999618530273, -3.6821999549865723, -3.8041000366210938, -3.8447000980377197, -3.914099931716919, -3.9811999797821045, -4.024400234222412, -4.082499980926514, -4.462100028991699, -4.5441999435424805, -4.720399856567383, -4.723700046539307, -4.753600120544434, -4.789899826049805, -4.899899959564209, -4.924600124359131, -4.948800086975098, -4.974100112915039, -4.9857001304626465, -4.987199783325195, -4.99399995803833, -2.137399911880493, -2.4646999835968018, -2.4765000343322754, -2.986599922180176, -3.102099895477295, -3.3127999305725098, -3.348599910736084, -3.3585000038146973, -3.383699893951416, -3.461899995803833, -3.5039000511169434, -3.5257999897003174, -3.5408999919891357, -3.5510001182556152, -3.9535999298095703, -4.063899993896484, -4.147600173950195, -4.167500019073486, -4.179299831390381, -4.239500045776367, -4.32289981842041, -4.4303998947143555, -4.45989990234375, -4.470200061798096, -4.613699913024902, -4.625699996948242, -4.665999889373779, -4.690700054168701, -4.763299942016602, -4.767600059509277]}, \"token.table\": {\"Topic\": [7, 3, 1, 3, 6, 3, 7, 5, 5, 6, 1, 4, 6, 7, 7, 4, 6, 1, 7, 1, 2, 7, 5, 1, 6, 2, 5, 6, 2, 3, 7, 6, 1, 4, 5, 4, 2, 5, 3, 6, 1, 7, 5, 5, 6, 6, 5, 1, 7, 3, 6, 4, 3, 1, 7, 1, 1, 4, 7, 7, 7, 5, 6, 2, 1, 3, 2, 3, 6, 6, 6, 1, 4, 2, 7, 3, 5, 3, 6, 4, 4, 6, 4, 7, 5, 7, 6, 5, 5, 5, 4, 4, 7, 2, 2, 2, 2, 5, 1, 2, 5, 4, 1, 6, 5, 2, 5, 2, 6, 1, 1, 5, 3, 2, 4, 4, 3, 7, 1, 1, 4, 2, 5, 1, 3, 2, 2, 3, 4, 3, 7, 6, 5, 4, 3, 4, 3, 6, 2, 7, 4, 2, 5, 3, 5, 6, 1, 1, 1, 3, 6, 5, 3, 7, 2, 2, 4, 5, 4, 7, 3, 4, 5, 1, 2, 3, 2, 7, 4, 4, 2, 6, 7, 2, 3, 6, 7, 5, 3, 4, 4, 7, 1, 6, 6, 3, 7, 4, 1, 3, 2, 5, 1, 5, 1, 6, 6, 7, 7, 3, 7, 2, 3, 4, 2, 2, 4, 3, 1, 1], \"Freq\": [0.9981346726417542, 0.9965471029281616, 0.9966710209846497, 0.9828046560287476, 0.9987791180610657, 1.0122190713882446, 1.0148853063583374, 0.996379017829895, 1.0097851753234863, 1.0016435384750366, 1.0117785930633545, 1.0027589797973633, 1.0003923177719116, 0.9896928668022156, 0.9947319626808167, 1.013554334640503, 0.9949309825897217, 0.997008740901947, 0.9997572302818298, 1.0032292604446411, 1.006422519683838, 0.9967138171195984, 1.0034652948379517, 0.9969875812530518, 0.9927688241004944, 1.0015977621078491, 0.9966333508491516, 1.0057564973831177, 0.9852891564369202, 1.0001074075698853, 0.9995343685150146, 0.9999117255210876, 0.9783164262771606, 1.0041009187698364, 0.9862990379333496, 0.9972741603851318, 0.9885587692260742, 1.0021686553955078, 1.0009340047836304, 1.0010368824005127, 1.0030238628387451, 0.9979167580604553, 1.0113582611083984, 0.9961809515953064, 1.0137453079223633, 0.9929667115211487, 0.9891920685768127, 0.9995341897010803, 0.9993205666542053, 0.9966101050376892, 1.0006227493286133, 0.9992429614067078, 1.0157721042633057, 0.9977090358734131, 1.001603364944458, 0.9999080896377563, 0.9898595213890076, 0.9979503154754639, 1.0036345720291138, 1.0041238069534302, 0.9923000335693359, 1.0034997463226318, 1.0015606880187988, 0.9842609167098999, 0.9730862379074097, 0.9925954341888428, 1.006255030632019, 0.9966389536857605, 1.0152050256729126, 0.9889741539955139, 0.9948300719261169, 1.0006428956985474, 0.9981300234794617, 1.0022730827331543, 1.0001579523086548, 1.0002573728561401, 0.9846599698066711, 0.9899877309799194, 1.0020630359649658, 1.007219672203064, 1.0002634525299072, 0.9990738034248352, 1.0006393194198608, 0.9837106466293335, 0.9926203489303589, 0.9768089056015015, 0.999967098236084, 1.0003663301467896, 0.9995520114898682, 0.9984641075134277, 0.9998175501823425, 0.9993295669555664, 0.9955687522888184, 0.9995959997177124, 0.96587735414505, 1.0119917392730713, 1.0249710083007812, 1.007416844367981, 0.9983381032943726, 1.0076258182525635, 1.003555417060852, 1.0097589492797852, 1.0040829181671143, 1.001363754272461, 0.9956359267234802, 1.0112398862838745, 0.9891477823257446, 0.9994934797286987, 0.9771826267242432, 1.000201940536499, 0.9689604640007019, 0.9908745884895325, 0.990329384803772, 1.007834553718567, 0.992763340473175, 0.9971383213996887, 1.0003726482391357, 0.9986581802368164, 0.9996957182884216, 0.9931278228759766, 0.9829851984977722, 0.9931550621986389, 0.9777568578720093, 0.9892316460609436, 1.0002163648605347, 1.006081223487854, 0.9982743263244629, 0.9958587288856506, 0.9993105530738831, 0.9970343708992004, 1.004421353340149, 1.0050700902938843, 0.9877839088439941, 1.0114030838012695, 0.9984803795814514, 0.9925263524055481, 1.0019723176956177, 1.0010119676589966, 1.0010309219360352, 0.9993667602539062, 1.0004218816757202, 0.9998665452003479, 0.9919978976249695, 1.008055329322815, 0.998260498046875, 1.0119563341140747, 1.000543475151062, 0.9969817996025085, 1.0004544258117676, 0.9970096945762634, 1.0056982040405273, 1.0038875341415405, 0.9975534081459045, 1.0036215782165527, 1.0184522867202759, 1.012824296951294, 0.9879482984542847, 0.9845008850097656, 0.9978914260864258, 0.9992997050285339, 0.9956380128860474, 0.9996291399002075, 0.9867119193077087, 0.9961667060852051, 0.9619464874267578, 0.9989702701568604, 1.0095274448394775, 1.007191777229309, 0.9915779232978821, 0.9906933307647705, 0.9986060857772827, 0.9709611535072327, 1.001601219177246, 1.0122689008712769, 1.0015003681182861, 1.0152982473373413, 0.9834712147712708, 1.008762240409851, 0.999839723110199, 0.9956175088882446, 1.0055763721466064, 0.9968839883804321, 0.9931493401527405, 0.9772632122039795, 0.9913305640220642, 1.0001482963562012, 1.00003182888031, 0.9691783785820007, 0.9951606392860413, 0.9984819293022156, 0.9688374400138855, 1.0013471841812134, 0.9977074861526489, 0.9963634610176086, 1.016217827796936, 1.012318730354309, 0.9916340112686157, 1.010553002357483, 1.0088505744934082, 1.0014488697052002, 1.0005037784576416, 0.9968094229698181, 1.0004974603652954, 1.0015785694122314, 1.0044636726379395, 0.9664015173912048, 0.9931915402412415, 0.9900250434875488, 0.9980340003967285, 0.9958581328392029], \"Term\": [\"\\u0430\\u0432\\u0430\\u043d\\u0441\", \"\\u0430\\u0432\\u0433\\u0443\\u0441\\u0442\", \"\\u0430\\u043b\\u0435\\u043a\\u0441\\u0430\\u043d\\u0434\\u0440\", \"\\u0430\\u043d\\u0430\\u0442\\u043e\\u043b\\u0438\\u0439\", \"\\u0430\\u0440\\u0435\\u043d\\u0434\\u0430\", \"\\u0431\\u0430\\u0431\\u043d\\u0443\\u0442\\u044c\", \"\\u0431\\u0430\\u0431\\u0443\\u0448\\u043a\\u0430\", \"\\u0431\\u0430\\u043d\\u043a\", \"\\u0431\\u0430\\u043d\\u043a\\u0435\\u0442\", \"\\u0431\\u0430\\u043d\\u044f\", \"\\u0431\\u0435\\u043d\\u0437\\u0438\\u043d\", \"\\u0431\\u0435\\u0440\\u0435\\u0447\\u044c\", \"\\u0431\\u0438\\u043b\\u0435\\u0442\", \"\\u0431\\u043b\\u0430\\u0433\\u043e\\u0434\\u0430\\u0440\\u0438\\u0442\\u044c\", \"\\u0431\\u0440\\u0430\\u0442\", \"\\u0431\\u0440\\u0430\\u0442\\u0438\\u0448\\u043a\\u0430\", \"\\u0431\\u0443\\u043a\\u0435\\u0442\", \"\\u0432\\u0430\\u0440\\u0435\\u043d\\u0438\\u0435\", \"\\u0432\\u0435\\u0440\\u043d\\u0443\\u0442\\u044c\", \"\\u0432\\u0437\\u044f\\u0442\\u044c\", \"\\u0432\\u0438\\u043a\\u0430\", \"\\u0432\\u0438\\u043a\\u0442\\u043e\\u0440\", \"\\u0432\\u0438\\u043a\\u0442\\u043e\\u0440\\u0438\\u044f\", \"\\u0432\\u043b\\u0430\\u0434\\u0438\\u043c\\u0438\\u0440\", \"\\u0432\\u043e\\u0437\\u0432\\u0440\\u0430\\u0442\", \"\\u0432\\u043e\\u0437\\u0432\\u0440\\u0430\\u0442_\\u0434\\u043e\\u043b\\u0433\", \"\\u0432\\u043e\\u0437\\u0432\\u0440\\u0430\\u0449\\u0430\\u0442\\u044c\", \"\\u0432\\u043e\\u043b\\u043a\\u043e\\u0432\", \"\\u0432\\u044b\\u0437\\u0434\\u043e\\u0440\\u0430\\u0432\\u043b\\u0438\\u0432\\u0430\\u0442\\u044c\", \"\\u0432\\u044b\\u0440\\u0443\\u0447\\u0438\\u0442\\u044c\", \"\\u0433\\u0430\\u0440\\u0430\\u0436\", \"\\u0433\\u043e\\u0434\", \"\\u0434\\u0432\\u0435\\u0440\\u044c\", \"\\u0434\\u0435\\u0432\\u043e\\u0447\\u043a\\u0430\", \"\\u0434\\u0435\\u043b\\u043e\", \"\\u0434\\u0435\\u043d\\u0435\\u0436\\u043a\\u0430\", \"\\u0434\\u0435\\u043d\\u044c\", \"\\u0434\\u0435\\u043d\\u044c_\\u0440\\u043e\\u0436\\u0434\\u0435\\u043d\\u0438\\u0435\", \"\\u0434\\u0435\\u043d\\u044c\\u0433\\u0430\", \"\\u0434\\u0435\\u0440\\u0436\\u0430\\u0442\\u044c\", \"\\u0434\\u0438\\u043c\", \"\\u0434\\u0438\\u0441\\u043a\", \"\\u0434\\u043d\\u044e\\u0445\", \"\\u0434\\u043d\\u044e\\u0445\\u0430\", \"\\u0434\\u043e\\u0431\\u0430\\u0432\\u0438\\u0442\\u044c\", \"\\u0434\\u043e\\u0433\\u043e\\u0432\\u043e\\u0440\", \"\\u0434\\u043e\\u0439\\u0442\\u0438\", \"\\u0434\\u043e\\u043b\\u0433\", \"\\u0434\\u043e\\u043b\\u0436\\u043e\\u043a\", \"\\u0434\\u043e\\u043c\", \"\\u0434\\u043e\\u0441\\u0442\\u0430\\u0432\\u043a\\u0430\", \"\\u0434\\u043e\\u0447\\u043a\\u0430\", \"\\u0434\\u043e\\u0447\\u044c\", \"\\u0434\\u0440\", \"\\u0434\\u0440\\u0443\\u0433\", \"\\u0434\\u0443\\u0445\", \"\\u0434\\u0443\\u0448\\u0430\", \"\\u0435\\u0434\\u0430\", \"\\u0436\\u0435\\u043d\\u0430\", \"\\u0436\\u0435\\u043d\\u0438\\u0442\\u044c\", \"\\u0437\\u0430\\u0431\\u044b\\u0442\\u044c\", \"\\u0437\\u0430\\u0439\\u043a\\u0430\", \"\\u0437\\u0430\\u043a\\u0430\\u0437\", \"\\u0437\\u0430\\u043b\\u043e\\u0433\", \"\\u0437\\u0430\\u043d\\u044f\\u0442\\u0438\\u0435\", \"\\u0437\\u0430\\u0440\\u043f\\u043b\\u0430\\u0442\\u0430\", \"\\u0438\\u0433\\u0440\\u0430\", \"\\u0438\\u0437\\u0432\\u0438\\u043d\\u0438\\u0442\\u044c\", \"\\u0438\\u043a\\u0440\\u0430\", \"\\u0438\\u043d\\u0442\\u0435\\u0440\\u043d\\u0435\\u0442\", \"\\u0438\\u043f\\u043e\\u0442\\u0435\\u043a\\u0430\", \"\\u0438\\u0440\", \"\\u0438\\u044e\\u043b\\u044c\", \"\\u043a\\u0430\\u0440\\u0442\\u0430\", \"\\u043a\\u0430\\u0442\", \"\\u043a\\u0432\\u0430\\u0440\\u0442\\u0438\\u0440\\u0430\", \"\\u043a\\u0438\\u0441\\u0430\", \"\\u043a\\u043b\\u0430\\u0441\\u0441\", \"\\u043a\\u043b\\u044e\\u0447\", \"\\u043a\\u043e\\u0441\\u0442\\u044e\\u043c\", \"\\u043a\\u043e\\u0444\\u0435\", \"\\u043a\\u0440\\u0435\\u0434\\u0438\\u0442\", \"\\u043a\\u0443\\u043f\\u0438\\u0442\\u044c\", \"\\u043b\\u0435\\u0431\\u0435\\u0434\\u0435\\u0432\", \"\\u043b\\u0435\\u043a\\u0430\\u0440\\u0441\\u0442\\u0432\\u043e\", \"\\u043b\\u0435\\u043d\\u0430\", \"\\u043b\\u043e\\u0432\\u0438\\u0442\\u044c\", \"\\u043b\\u044e\\u0431\\u0438\\u0442\\u044c\", \"\\u043b\\u044e\\u0431\\u043e\\u0432\\u044c\", \"\\u043c\\u0430\\u043a\\u0441\\u0438\\u043c\", \"\\u043c\\u0430\\u043c\\u0430\", \"\\u043c\\u0430\\u043c\\u043e\\u0447\\u043a\\u0430\", \"\\u043c\\u0430\\u043c\\u0443\\u043b\\u044f\", \"\\u043c\\u0430\\u0440\\u0442\", \"\\u043c\\u0430\\u0441\\u0441\\u0430\\u0436\", \"\\u043c\\u0430\\u0448\\u0438\\u043d\\u0430\", \"\\u043c\\u0435\\u0431\\u0435\\u043b\\u044c\", \"\\u043c\\u0435\\u0442\\u0440\", \"\\u043c\\u0438\\u0440\", \"\\u043c\\u043e\\u0440\\u043e\\u0436\\u0451\\u043d\\u043a\\u0430\", \"\\u043c\\u0443\\u0436\", \"\\u043c\\u044f\\u0441\\u043e\", \"\\u043d\\u0430\\u043f\\u0438\\u0441\\u0430\\u0442\\u044c\", \"\\u043d\\u0435\\u0434\\u0435\\u043b\\u044f\", \"\\u043d\\u0438\\u043a\\u043e\\u043b\\u0430\\u0435\\u0432\", \"\\u043d\\u043e\\u0447\\u044c\", \"\\u043d\\u0443\\u0436\\u0434\\u0430\", \"\\u043e\\u0431\\u0435\\u0434\", \"\\u043e\\u0431\\u0449\\u0430\\u0433\\u0430\", \"\\u043e\\u043f\\u043b\\u0430\\u0442\\u0430\", \"\\u043e\\u0441\\u0430\\u0433\\u043e\", \"\\u043e\\u0441\\u0442\\u0430\\u0442\\u043e\\u043a\", \"\\u043e\\u0442\\u0434\\u0430\\u0442\\u044c\", \"\\u043e\\u0442\\u043a\\u0430\\u0437\\u044b\\u0432\\u0430\\u0442\\u044c\", \"\\u043e\\u0442\\u043f\\u0438\\u0441\\u0430\\u0442\\u044c\\u0441\\u044f\", \"\\u043e\\u0442\\u043f\\u0440\\u0430\\u0432\\u0438\\u0442\\u044c\", \"\\u043f\\u0430\\u043f\\u0430\", \"\\u043f\\u0435\\u0440\\u0435\\u0432\\u0435\\u0441\\u0442\\u0438\", \"\\u043f\\u0435\\u0440\\u0435\\u0432\\u043e\\u0434\", \"\\u043f\\u0435\\u0440\\u0435\\u0432\\u043e\\u0434_\\u0441\\u0440\\u0435\\u0434\\u0441\\u0442\\u0432\\u043e\", \"\\u043f\\u0435\\u0440\\u0435\\u0432\\u043e\\u0437\\u0438\\u0442\\u044c\", \"\\u043f\\u0438\\u0432\\u043e\", \"\\u043f\\u0438\\u0434\\u043e\\u0440\\u0430\", \"\\u043f\\u0438\\u0437\\u0434\\u0430\", \"\\u043f\\u0438\\u0442\\u0430\\u043d\\u0438\\u0435\", \"\\u043f\\u0438\\u0446\\u0446\\u0430\", \"\\u043f\\u043b\\u0430\\u0442\\u0430\", \"\\u043f\\u043b\\u0430\\u0442\\u0451\\u0436\", \"\\u043f\\u043e\\u0434\\u0430\\u0440\\u043e\\u043a\", \"\\u043f\\u043e\\u0435\\u0437\\u0434\\u043a\\u0430\", \"\\u043f\\u043e\\u0437\\u0434\\u0440\\u0430\\u0432\\u043b\\u044f\\u0442\\u044c\", \"\\u043f\\u043e\\u043a\\u0443\\u043f\\u043a\\u0430\", \"\\u043f\\u043e\\u043a\\u0443\\u0448\\u0430\\u0442\\u044c\", \"\\u043f\\u043e\\u043b\\u043e\\u0432\\u0438\\u043d\\u0430\", \"\\u043f\\u043e\\u043b\\u0443\\u0447\\u0438\\u0442\\u044c\", \"\\u043f\\u043e\\u043b\\u0443\\u0447\\u0438\\u0442\\u044c\\u0441\\u044f\", \"\\u043f\\u043e\\u043c\\u043e\\u0449\\u044c\", \"\\u043f\\u043e\\u043f\\u043e\\u043b\\u043d\\u0435\\u043d\\u0438\\u0435\", \"\\u043f\\u043e\\u043f\\u043e\\u043b\\u043d\\u0435\\u043d\\u0438\\u0435_\\u0441\\u0447\\u0451\\u0442\", \"\\u043f\\u0440\\u0430\\u0437\\u0434\\u043d\\u0438\\u043a\", \"\\u043f\\u0440\\u0435\\u0434\\u043e\\u043f\\u043b\\u0430\\u0442\\u0430\", \"\\u043f\\u0440\\u0438\\u0432\\u0435\\u0442\", \"\\u043f\\u0440\\u0438\\u0432\\u0435\\u0442\\u0438\\u043a\", \"\\u043f\\u0440\\u0438\\u0439\\u0442\\u0438\", \"\\u043f\\u0440\\u0438\\u043d\\u044f\\u0442\\u044c\", \"\\u043f\\u0440\\u0438\\u043d\\u044f\\u0442\\u044c_\\u0441\\u043e\\u0431\\u043e\\u043b\\u0435\\u0437\\u043d\\u043e\\u0432\\u0430\\u043d\\u0438\\u0435\", \"\\u043f\\u0440\\u0438\\u0441\\u043b\\u0430\\u0442\\u044c\", \"\\u043f\\u0440\\u043e\\u0431\\u0430\", \"\\u043f\\u0440\\u043e\\u0432\\u0435\\u0440\\u043a\\u0430\", \"\\u043f\\u0440\\u043e\\u0432\\u0435\\u0440\\u043a\\u0430_\\u0441\\u0432\\u044f\\u0437\\u044c\", \"\\u043f\\u0440\\u043e\\u0432\\u0435\\u0440\\u044f\\u0442\\u044c\", \"\\u043f\\u0440\\u043e\\u0434\\u0443\\u043a\\u0442\", \"\\u043f\\u0440\\u043e\\u0441\\u0438\\u0442\\u044c\", \"\\u043f\\u0440\\u043e\\u0441\\u0442\\u0438\\u0442\\u044c\", \"\\u043f\\u0440\\u043e\\u0446\\u0435\\u043d\\u0442\", \"\\u043f\\u0443\\u043f\\u0441\\u0438\\u043a\", \"\\u0440\\u0430\\u0431\\u043e\\u0442\\u0430\", \"\\u0440\\u0430\\u0434\\u043e\\u0441\\u0442\\u044c\", \"\\u0440\\u0430\\u0441\\u0445\\u043e\\u0434\", \"\\u0440\\u0435\\u0431\\u0451\\u043d\\u043e\\u043a\", \"\\u0440\\u0435\\u043c\\u043e\\u043d\\u0442\", \"\\u0440\\u043e\\u0436\\u0434\\u0435\\u043d\\u0438\\u0435\", \"\\u0440\\u043e\\u043b\\u043b\", \"\\u0440\\u0443\\u0431\\u043b\\u044c\", \"\\u0440\\u0443\\u0441\\u0438\\u043a\", \"\\u0440\\u044b\\u0431\\u0430\", \"\\u0440\\u044e\\u043a\\u0437\\u0430\\u043a\", \"\\u0441\\u0430\\u0434\", \"\\u0441\\u0431\\u0435\\u0440\", \"\\u0441\\u0432\\u0430\\u0434\\u044c\\u0431\\u0430\", \"\\u0441\\u0432\\u0435\\u0442\", \"\\u0441\\u0434\\u0430\\u0447\\u0430\", \"\\u0441\\u0435\\u043d\\u0442\\u044f\\u0431\\u0440\\u044c\", \"\\u0441\\u0435\\u0440\\u0433\\u0435\\u0435\\u0432\", \"\\u0441\\u0435\\u0440\\u0433\\u0435\\u0439\", \"\\u0441\\u0435\\u0441\\u0442\\u0440\\u0430\", \"\\u0441\\u043a\\u0430\\u0437\\u0430\\u0442\\u044c\", \"\\u0441\\u043e\\u043a\\u043e\\u043b\\u043e\\u0432\", \"\\u0441\\u043e\\u043e\\u0431\\u0449\\u0438\\u0442\\u044c\", \"\\u0441\\u043e\\u0441\\u0430\\u0442\\u044c\", \"\\u0441\\u043f\\u0441\", \"\\u0441\\u0442\\u0440\\u0430\\u0445\\u043e\\u0432\\u043a\\u0430\", \"\\u0441\\u0442\\u0440\\u0438\\u0436\\u043a\\u0430\", \"\\u0441\\u0443\\u043c\\u043a\\u0430\", \"\\u0441\\u0443\\u0448\\u0438\", \"\\u0441\\u0447\\u0451\\u0442\", \"\\u0441\\u044b\\u043d\", \"\\u0441\\u044b\\u043d\\u043e\\u043a\", \"\\u0441\\u044b\\u043d\\u0443\\u043b\\u044c\", \"\\u0442\\u0430\\u043a\\u0441\\u0438\", \"\\u0442\\u0430\\u0440\\u0430\\u0441\\u043e\\u0432\", \"\\u0442\\u0435\\u0441\\u0442\", \"\\u0442\\u043e\\u0440\\u0442\", \"\\u0442\\u043e\\u0440\\u0442\\u0438\\u043a\", \"\\u0442\\u0440\\u0430\\u043d\\u0448\", \"\\u0443\\u0436\\u0438\\u043d\", \"\\u0443\\u0441\\u043b\\u0443\\u0433\\u0430\", \"\\u0443\\u0447\\u0435\\u0431\\u043d\\u0438\\u043a\", \"\\u0443\\u0447\\u0451\\u0431\\u0430\", \"\\u0444\\u043e\\u0442\\u043e\", \"\\u0445\\u0443\\u0439\", \"\\u0446\\u0435\\u043b\\u043e\\u0432\\u0430\\u0442\\u044c\", \"\\u0447\\u0430\\u0441\\u0442\\u044c\", \"\\u0447\\u0430\\u044f\\u0442\\u044c\", \"\\u0447\\u0435\\u043b\\u043e\\u0432\\u0435\\u043a\", \"\\u0447\\u043c\\u043e\\u043a\\u0430\", \"\\u0448\\u0430\\u0443\\u0440\\u043c\", \"\\u0448\\u0430\\u0448\\u043b\\u044b\\u043a\", \"\\u0448\\u0442\\u043e\\u0440\\u0430\", \"\\u044e\\u0431\\u0438\\u043b\\u0435\\u0439\"]}, \"R\": 30, \"lambda.step\": 0.01, \"plot.opts\": {\"xlab\": \"PC1\", \"ylab\": \"PC2\"}, \"topic.order\": [1, 2, 5, 6, 4, 7, 3]};\n",
       "\n",
       "function LDAvis_load_lib(url, callback){\n",
       "  var s = document.createElement('script');\n",
       "  s.src = url;\n",
       "  s.async = true;\n",
       "  s.onreadystatechange = s.onload = callback;\n",
       "  s.onerror = function(){console.warn(\"failed to load library \" + url);};\n",
       "  document.getElementsByTagName(\"head\")[0].appendChild(s);\n",
       "}\n",
       "\n",
       "if(typeof(LDAvis) !== \"undefined\"){\n",
       "   // already loaded: just create the visualization\n",
       "   !function(LDAvis){\n",
       "       new LDAvis(\"#\" + \"ldavis_el23811124800708962431870123\", ldavis_el23811124800708962431870123_data);\n",
       "   }(LDAvis);\n",
       "}else if(typeof define === \"function\" && define.amd){\n",
       "   // require.js is available: use it to load d3/LDAvis\n",
       "   require.config({paths: {d3: \"https://cdnjs.cloudflare.com/ajax/libs/d3/3.5.5/d3.min\"}});\n",
       "   require([\"d3\"], function(d3){\n",
       "      window.d3 = d3;\n",
       "      LDAvis_load_lib(\"https://cdn.rawgit.com/bmabey/pyLDAvis/files/ldavis.v1.0.0.js\", function(){\n",
       "        new LDAvis(\"#\" + \"ldavis_el23811124800708962431870123\", ldavis_el23811124800708962431870123_data);\n",
       "      });\n",
       "    });\n",
       "}else{\n",
       "    // require.js not available: dynamically load d3 & LDAvis\n",
       "    LDAvis_load_lib(\"https://cdnjs.cloudflare.com/ajax/libs/d3/3.5.5/d3.min.js\", function(){\n",
       "         LDAvis_load_lib(\"https://cdn.rawgit.com/bmabey/pyLDAvis/files/ldavis.v1.0.0.js\", function(){\n",
       "                 new LDAvis(\"#\" + \"ldavis_el23811124800708962431870123\", ldavis_el23811124800708962431870123_data);\n",
       "            })\n",
       "         });\n",
       "}\n",
       "</script>"
      ],
      "text/plain": [
       "<IPython.core.display.HTML object>"
      ]
     },
     "execution_count": 61,
     "metadata": {},
     "output_type": "execute_result"
    }
   ],
   "source": [
    "# https://cran.r-project.org/web/packages/LDAvis/vignettes/details.pdf\n",
    "# Here a short legend to explain the vis:\n",
    "# size of bubble: proportional to the proportions of the topics across the N total tokens in the corpus\n",
    "# red bars: estimated number of times a given term was generated by a given topic\n",
    "# blue bars: overall frequency of each term in the corpus\n",
    "# -- Relevance of words is computed with a parameter lambda\n",
    "# -- Lambda optimal value ~0.6 (https://nlp.stanford.edu/events/illvi2014/papers/sievert-illvi2014.pdf)\n",
    "%matplotlib inline\n",
    "import pyLDAvis\n",
    "import pyLDAvis.gensim\n",
    "vis = pyLDAvis.gensim.prepare(topic_model=lda_model, corpus=corpus, dictionary=dictionary_LDA)\n",
    "pyLDAvis.enable_notebook()\n",
    "pyLDAvis.display(vis)"
   ]
  },
  {
   "cell_type": "markdown",
   "metadata": {},
   "source": [
    "#### Allocation of topics in all documents"
   ]
  },
  {
   "cell_type": "code",
   "execution_count": 62,
   "metadata": {},
   "outputs": [],
   "source": [
    "topics = [lda_model[corpus[i]] for i in range(len(data))]"
   ]
  },
  {
   "cell_type": "code",
   "execution_count": 63,
   "metadata": {},
   "outputs": [
    {
     "data": {
      "text/html": [
       "<div>\n",
       "<style scoped>\n",
       "    .dataframe tbody tr th:only-of-type {\n",
       "        vertical-align: middle;\n",
       "    }\n",
       "\n",
       "    .dataframe tbody tr th {\n",
       "        vertical-align: top;\n",
       "    }\n",
       "\n",
       "    .dataframe thead th {\n",
       "        text-align: right;\n",
       "    }\n",
       "</style>\n",
       "<table border=\"1\" class=\"dataframe\">\n",
       "  <thead>\n",
       "    <tr style=\"text-align: right;\">\n",
       "      <th></th>\n",
       "      <th>0</th>\n",
       "      <th>1</th>\n",
       "      <th>2</th>\n",
       "      <th>3</th>\n",
       "      <th>4</th>\n",
       "      <th>5</th>\n",
       "      <th>6</th>\n",
       "      <th>7</th>\n",
       "      <th>8</th>\n",
       "      <th>9</th>\n",
       "      <th>10</th>\n",
       "      <th>11</th>\n",
       "      <th>12</th>\n",
       "      <th>13</th>\n",
       "      <th>14</th>\n",
       "      <th>15</th>\n",
       "      <th>16</th>\n",
       "      <th>17</th>\n",
       "      <th>18</th>\n",
       "      <th>19</th>\n",
       "    </tr>\n",
       "  </thead>\n",
       "  <tbody>\n",
       "    <tr>\n",
       "      <th>0</th>\n",
       "      <td>NaN</td>\n",
       "      <td>NaN</td>\n",
       "      <td>NaN</td>\n",
       "      <td>NaN</td>\n",
       "      <td>NaN</td>\n",
       "      <td>NaN</td>\n",
       "      <td>NaN</td>\n",
       "      <td>NaN</td>\n",
       "      <td>NaN</td>\n",
       "      <td>0.0385366</td>\n",
       "      <td>NaN</td>\n",
       "      <td>NaN</td>\n",
       "      <td>NaN</td>\n",
       "      <td>NaN</td>\n",
       "      <td>NaN</td>\n",
       "      <td>0.0913012</td>\n",
       "      <td>NaN</td>\n",
       "      <td>NaN</td>\n",
       "      <td>0.869287</td>\n",
       "      <td>NaN</td>\n",
       "    </tr>\n",
       "  </tbody>\n",
       "</table>\n",
       "</div>"
      ],
      "text/plain": [
       "     0    1    2    3    4    5    6    7    8          9   10   11   12   13  \\\n",
       "0  NaN  NaN  NaN  NaN  NaN  NaN  NaN  NaN  NaN  0.0385366  NaN  NaN  NaN  NaN   \n",
       "\n",
       "    14         15   16   17        18   19  \n",
       "0  NaN  0.0913012  NaN  NaN  0.869287  NaN  "
      ]
     },
     "execution_count": 63,
     "metadata": {},
     "output_type": "execute_result"
    }
   ],
   "source": [
    "def topics_document_to_dataframe(topics_document, num_topics):\n",
    "    res = pd.DataFrame(columns=range(num_topics))\n",
    "    for topic_weight in topics_document:\n",
    "        res.loc[0, topic_weight[0]] = topic_weight[1]\n",
    "    return res\n",
    "\n",
    "topics_document_to_dataframe([(9, 0.03853655432967504), (15, 0.09130117862212643), (18, 0.8692868808484044)], 20)"
   ]
  },
  {
   "cell_type": "code",
   "execution_count": 64,
   "metadata": {},
   "outputs": [],
   "source": [
    "# Like TF-IDF, create a matrix of topic weighting, with documents as rows and topics as columns\n",
    "document_topic = \\\n",
    "pd.concat([topics_document_to_dataframe(topics_document, num_topics=num_topics) for topics_document in topics]) \\\n",
    "  .reset_index(drop=True).fillna(0)"
   ]
  },
  {
   "cell_type": "code",
   "execution_count": 65,
   "metadata": {
    "scrolled": true
   },
   "outputs": [
    {
     "data": {
      "text/html": [
       "<div>\n",
       "<style scoped>\n",
       "    .dataframe tbody tr th:only-of-type {\n",
       "        vertical-align: middle;\n",
       "    }\n",
       "\n",
       "    .dataframe tbody tr th {\n",
       "        vertical-align: top;\n",
       "    }\n",
       "\n",
       "    .dataframe thead th {\n",
       "        text-align: right;\n",
       "    }\n",
       "</style>\n",
       "<table border=\"1\" class=\"dataframe\">\n",
       "  <thead>\n",
       "    <tr style=\"text-align: right;\">\n",
       "      <th></th>\n",
       "      <th>0</th>\n",
       "      <th>1</th>\n",
       "      <th>2</th>\n",
       "      <th>3</th>\n",
       "      <th>4</th>\n",
       "      <th>5</th>\n",
       "      <th>6</th>\n",
       "    </tr>\n",
       "  </thead>\n",
       "  <tbody>\n",
       "    <tr>\n",
       "      <th>0</th>\n",
       "      <td>0.142857</td>\n",
       "      <td>0.142857</td>\n",
       "      <td>0.142857</td>\n",
       "      <td>0.142857</td>\n",
       "      <td>0.142857</td>\n",
       "      <td>0.142857</td>\n",
       "      <td>0.142857</td>\n",
       "    </tr>\n",
       "    <tr>\n",
       "      <th>1</th>\n",
       "      <td>0.142857</td>\n",
       "      <td>0.142857</td>\n",
       "      <td>0.142857</td>\n",
       "      <td>0.142857</td>\n",
       "      <td>0.142857</td>\n",
       "      <td>0.142857</td>\n",
       "      <td>0.142857</td>\n",
       "    </tr>\n",
       "    <tr>\n",
       "      <th>2</th>\n",
       "      <td>0.142857</td>\n",
       "      <td>0.142857</td>\n",
       "      <td>0.142857</td>\n",
       "      <td>0.142857</td>\n",
       "      <td>0.142857</td>\n",
       "      <td>0.142857</td>\n",
       "      <td>0.142857</td>\n",
       "    </tr>\n",
       "    <tr>\n",
       "      <th>3</th>\n",
       "      <td>0.142857</td>\n",
       "      <td>0.142857</td>\n",
       "      <td>0.142857</td>\n",
       "      <td>0.142857</td>\n",
       "      <td>0.142857</td>\n",
       "      <td>0.142857</td>\n",
       "      <td>0.142857</td>\n",
       "    </tr>\n",
       "    <tr>\n",
       "      <th>4</th>\n",
       "      <td>0.142857</td>\n",
       "      <td>0.142857</td>\n",
       "      <td>0.142857</td>\n",
       "      <td>0.142857</td>\n",
       "      <td>0.142857</td>\n",
       "      <td>0.142857</td>\n",
       "      <td>0.142857</td>\n",
       "    </tr>\n",
       "  </tbody>\n",
       "</table>\n",
       "</div>"
      ],
      "text/plain": [
       "          0         1         2         3         4         5         6\n",
       "0  0.142857  0.142857  0.142857  0.142857  0.142857  0.142857  0.142857\n",
       "1  0.142857  0.142857  0.142857  0.142857  0.142857  0.142857  0.142857\n",
       "2  0.142857  0.142857  0.142857  0.142857  0.142857  0.142857  0.142857\n",
       "3  0.142857  0.142857  0.142857  0.142857  0.142857  0.142857  0.142857\n",
       "4  0.142857  0.142857  0.142857  0.142857  0.142857  0.142857  0.142857"
      ]
     },
     "execution_count": 65,
     "metadata": {},
     "output_type": "execute_result"
    }
   ],
   "source": [
    "document_topic.head()"
   ]
  },
  {
   "cell_type": "code",
   "execution_count": 67,
   "metadata": {
    "scrolled": false
   },
   "outputs": [
    {
     "data": {
      "text/plain": [
       "1818     0.865167\n",
       "2142     0.865166\n",
       "4508     0.812500\n",
       "7380     0.812500\n",
       "4511     0.812500\n",
       "8553     0.812499\n",
       "20955    0.812499\n",
       "9435     0.812499\n",
       "1238     0.812499\n",
       "25022    0.812499\n",
       "4929     0.812498\n",
       "1622     0.812498\n",
       "14181    0.812497\n",
       "1868     0.812497\n",
       "1556     0.812496\n",
       "25113    0.812493\n",
       "819      0.812493\n",
       "104      0.812490\n",
       "711      0.812490\n",
       "1250     0.812472\n",
       "Name: 6, dtype: float64"
      ]
     },
     "execution_count": 67,
     "metadata": {},
     "output_type": "execute_result"
    }
   ],
   "source": [
    "# Which document are about topic 14\n",
    "document_topic.sort_values(6, ascending=False)[6].head(20)"
   ]
  },
  {
   "cell_type": "code",
   "execution_count": 68,
   "metadata": {},
   "outputs": [
    {
     "data": {
      "text/html": [
       "<div>\n",
       "<style scoped>\n",
       "    .dataframe tbody tr th:only-of-type {\n",
       "        vertical-align: middle;\n",
       "    }\n",
       "\n",
       "    .dataframe tbody tr th {\n",
       "        vertical-align: top;\n",
       "    }\n",
       "\n",
       "    .dataframe thead th {\n",
       "        text-align: right;\n",
       "    }\n",
       "</style>\n",
       "<table border=\"1\" class=\"dataframe\">\n",
       "  <thead>\n",
       "    <tr style=\"text-align: right;\">\n",
       "      <th></th>\n",
       "      <th>index</th>\n",
       "      <th>sp_id</th>\n",
       "      <th>local_datetime</th>\n",
       "      <th>text</th>\n",
       "      <th>lemma</th>\n",
       "      <th>sentences</th>\n",
       "      <th>tokens_sentences</th>\n",
       "      <th>POS_tokens</th>\n",
       "      <th>tokens_sentences_lemmatized</th>\n",
       "      <th>tokens</th>\n",
       "    </tr>\n",
       "  </thead>\n",
       "  <tbody>\n",
       "    <tr>\n",
       "      <th>0</th>\n",
       "      <td>5</td>\n",
       "      <td>2</td>\n",
       "      <td>2018-04-06T00:12:29+0300</td>\n",
       "      <td>giving you money back. thanks</td>\n",
       "      <td>[giving, you, money, back, thanks]</td>\n",
       "      <td>[giving you money back., thanks]</td>\n",
       "      <td>[[giving, you, money, back, .], [thanks]]</td>\n",
       "      <td>[[(giving, LATN), (you, LATN), (money, LATN), ...</td>\n",
       "      <td>[[], []]</td>\n",
       "      <td>[]</td>\n",
       "    </tr>\n",
       "    <tr>\n",
       "      <th>1</th>\n",
       "      <td>6</td>\n",
       "      <td>2</td>\n",
       "      <td>2018-04-06T00:14:18+0300</td>\n",
       "      <td>giving you money back. thanks</td>\n",
       "      <td>[giving, you, money, back, thanks]</td>\n",
       "      <td>[giving you money back., thanks]</td>\n",
       "      <td>[[giving, you, money, back, .], [thanks]]</td>\n",
       "      <td>[[(giving, LATN), (you, LATN), (money, LATN), ...</td>\n",
       "      <td>[[], []]</td>\n",
       "      <td>[]</td>\n",
       "    </tr>\n",
       "  </tbody>\n",
       "</table>\n",
       "</div>"
      ],
      "text/plain": [
       "   index  sp_id            local_datetime                           text  \\\n",
       "0      5      2  2018-04-06T00:12:29+0300  giving you money back. thanks   \n",
       "1      6      2  2018-04-06T00:14:18+0300  giving you money back. thanks   \n",
       "\n",
       "                                lemma                         sentences  \\\n",
       "0  [giving, you, money, back, thanks]  [giving you money back., thanks]   \n",
       "1  [giving, you, money, back, thanks]  [giving you money back., thanks]   \n",
       "\n",
       "                            tokens_sentences  \\\n",
       "0  [[giving, you, money, back, .], [thanks]]   \n",
       "1  [[giving, you, money, back, .], [thanks]]   \n",
       "\n",
       "                                          POS_tokens  \\\n",
       "0  [[(giving, LATN), (you, LATN), (money, LATN), ...   \n",
       "1  [[(giving, LATN), (you, LATN), (money, LATN), ...   \n",
       "\n",
       "  tokens_sentences_lemmatized tokens  \n",
       "0                    [[], []]     []  \n",
       "1                    [[], []]     []  "
      ]
     },
     "execution_count": 68,
     "metadata": {},
     "output_type": "execute_result"
    }
   ],
   "source": [
    "data.head(2)"
   ]
  },
  {
   "cell_type": "code",
   "execution_count": 69,
   "metadata": {
    "scrolled": true
   },
   "outputs": [
    {
     "name": "stdout",
     "output_type": "stream",
     "text": [
      " для собаки\n"
     ]
    }
   ],
   "source": [
    "print(data.text.loc[4543][:1000])"
   ]
  },
  {
   "cell_type": "markdown",
   "metadata": {},
   "source": [
    "#### Looking at the distribution of topics in all documents"
   ]
  },
  {
   "cell_type": "code",
   "execution_count": 70,
   "metadata": {},
   "outputs": [
    {
     "data": {
      "text/plain": [
       "<matplotlib.axes._subplots.AxesSubplot at 0x1a343b6a90>"
      ]
     },
     "execution_count": 70,
     "metadata": {},
     "output_type": "execute_result"
    },
    {
     "data": {
      "image/png": "[encoded data removed]",
      "text/plain": [
       "<Figure size 720x1440 with 2 Axes>"
      ]
     },
     "metadata": {},
     "output_type": "display_data"
    }
   ],
   "source": [
    "%matplotlib inline\n",
    "import seaborn as sns; sns.set(rc={'figure.figsize':(10,20)})\n",
    "sns.heatmap(document_topic.loc[document_topic.idxmax(axis=1).sort_values().index])"
   ]
  },
  {
   "cell_type": "code",
   "execution_count": 71,
   "metadata": {},
   "outputs": [
    {
     "data": {
      "text/plain": [
       "<matplotlib.axes._subplots.AxesSubplot at 0x1a347e8630>"
      ]
     },
     "execution_count": 71,
     "metadata": {},
     "output_type": "execute_result"
    },
    {
     "data": {
      "image/png": "[encoded data removed]",
      "text/plain": [
       "<Figure size 720x360 with 1 Axes>"
      ]
     },
     "metadata": {},
     "output_type": "display_data"
    }
   ],
   "source": [
    "sns.set(rc={'figure.figsize':(10,5)})\n",
    "document_topic.idxmax(axis=1).value_counts().plot.bar(color='lightblue')"
   ]
  },
  {
   "cell_type": "markdown",
   "metadata": {},
   "source": [
    "#### Visualizing topics"
   ]
  },
  {
   "cell_type": "code",
   "execution_count": null,
   "metadata": {},
   "outputs": [],
   "source": []
  },
  {
   "cell_type": "code",
   "execution_count": null,
   "metadata": {},
   "outputs": [],
   "source": []
  }
 ],
 "metadata": {
  "kernelspec": {
   "display_name": "Python 3",
   "language": "python",
   "name": "python3"
  },
  "language_info": {
   "codemirror_mode": {
    "name": "ipython",
    "version": 3
   },
   "file_extension": ".py",
   "mimetype": "text/x-python",
   "name": "python",
   "nbconvert_exporter": "python",
   "pygments_lexer": "ipython3",
   "version": "3.7.2"
  },
  "toc": {
   "base_numbering": 1,
   "nav_menu": {},
   "number_sections": true,
   "sideBar": true,
   "skip_h1_title": false,
   "title_cell": "Table of Contents",
   "title_sidebar": "Contents",
   "toc_cell": false,
   "toc_position": {},
   "toc_section_display": true,
   "toc_window_display": true
  },
  "varInspector": {
   "cols": {
    "lenName": 16,
    "lenType": 16,
    "lenVar": 40
   },
   "kernels_config": {
    "python": {
     "delete_cmd_postfix": "",
     "delete_cmd_prefix": "del ",
     "library": "var_list.py",
     "varRefreshCmd": "print(var_dic_list())"
    },
    "r": {
     "delete_cmd_postfix": ") ",
     "delete_cmd_prefix": "rm(",
     "library": "var_list.r",
     "varRefreshCmd": "cat(var_dic_list()) "
    }
   },
   "types_to_exclude": [
    "module",
    "function",
    "builtin_function_or_method",
    "instance",
    "_Feature"
   ],
   "window_display": false
  },
  "widgets": {
   "state": {
    "429f605e71e34a868915456ee4fb20b8": {
     "views": [
      {
       "cell_index": 14
      }
     ]
    },
    "46817b7b86ca4b65a4bd631d2e7d777f": {
     "views": [
      {
       "cell_index": 21
      }
     ]
    },
    "8559963a3ac94b19a5b3ea6214032316": {
     "views": [
      {
       "cell_index": 19
      }
     ]
    },
    "96323249f1884bd5b62f87c3145932df": {
     "views": [
      {
       "cell_index": 8
      }
     ]
    },
    "d9d5e9ab22a947f398aad3ed9c365fcf": {
     "views": [
      {
       "cell_index": 16
      }
     ]
    },
    "fa80f472c5f14bcd9a7ba0befad06400": {
     "views": [
      {
       "cell_index": 9
      }
     ]
    }
   },
   "version": "1.2.0"
  }
 },
 "nbformat": 4,
 "nbformat_minor": 2
}
